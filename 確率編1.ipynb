{
  "nbformat": 4,
  "nbformat_minor": 0,
  "metadata": {
    "colab": {
      "name": "確率編前半.ipynb",
      "provenance": [],
      "collapsed_sections": []
    },
    "kernelspec": {
      "name": "python3",
      "display_name": "Python 3"
    },
    "language_info": {
      "name": "python"
    }
  },
  "cells": [
    {
      "cell_type": "markdown",
      "source": [
        "# サンプルコード"
      ],
      "metadata": {
        "id": "oZFtQhkDdCwA"
      }
    },
    {
      "cell_type": "markdown",
      "source": [
        " ## 準備まとめ"
      ],
      "metadata": {
        "id": "VKwpm8txdGot"
      }
    },
    {
      "cell_type": "markdown",
      "source": [
        "ダウンロードとインストール"
      ],
      "metadata": {
        "id": "o9diyOcudJio"
      }
    },
    {
      "cell_type": "code",
      "execution_count": 1,
      "metadata": {
        "colab": {
          "base_uri": "https://localhost:8080/"
        },
        "id": "gHyQpUPjcxSA",
        "outputId": "8c94aaab-4ac6-4513-d9d6-d75648c3af10"
      },
      "outputs": [
        {
          "output_type": "stream",
          "name": "stdout",
          "text": [
            "Cloning into 'python_stat_sample'...\n",
            "remote: Enumerating objects: 130, done.\u001b[K\n",
            "remote: Total 130 (delta 0), reused 0 (delta 0), pack-reused 130\u001b[K\n",
            "Receiving objects: 100% (130/130), 8.22 MiB | 15.80 MiB/s, done.\n",
            "Resolving deltas: 100% (59/59), done.\n",
            "Looking in indexes: https://pypi.org/simple, https://us-python.pkg.dev/colab-wheels/public/simple/\n",
            "Collecting japanize-matplotlib\n",
            "  Downloading japanize-matplotlib-1.1.3.tar.gz (4.1 MB)\n",
            "\u001b[K     |████████████████████████████████| 4.1 MB 4.2 MB/s \n",
            "\u001b[?25hRequirement already satisfied: matplotlib in /usr/local/lib/python3.7/dist-packages (from japanize-matplotlib) (3.2.2)\n",
            "Requirement already satisfied: pyparsing!=2.0.4,!=2.1.2,!=2.1.6,>=2.0.1 in /usr/local/lib/python3.7/dist-packages (from matplotlib->japanize-matplotlib) (3.0.9)\n",
            "Requirement already satisfied: kiwisolver>=1.0.1 in /usr/local/lib/python3.7/dist-packages (from matplotlib->japanize-matplotlib) (1.4.4)\n",
            "Requirement already satisfied: cycler>=0.10 in /usr/local/lib/python3.7/dist-packages (from matplotlib->japanize-matplotlib) (0.11.0)\n",
            "Requirement already satisfied: numpy>=1.11 in /usr/local/lib/python3.7/dist-packages (from matplotlib->japanize-matplotlib) (1.21.6)\n",
            "Requirement already satisfied: python-dateutil>=2.1 in /usr/local/lib/python3.7/dist-packages (from matplotlib->japanize-matplotlib) (2.8.2)\n",
            "Requirement already satisfied: typing-extensions in /usr/local/lib/python3.7/dist-packages (from kiwisolver>=1.0.1->matplotlib->japanize-matplotlib) (4.1.1)\n",
            "Requirement already satisfied: six>=1.5 in /usr/local/lib/python3.7/dist-packages (from python-dateutil>=2.1->matplotlib->japanize-matplotlib) (1.15.0)\n",
            "Building wheels for collected packages: japanize-matplotlib\n",
            "  Building wheel for japanize-matplotlib (setup.py) ... \u001b[?25l\u001b[?25hdone\n",
            "  Created wheel for japanize-matplotlib: filename=japanize_matplotlib-1.1.3-py3-none-any.whl size=4120275 sha256=a01982d521fc59daa4ceaecc93fdf9a4c31fec832de44661838917f73063dd57\n",
            "  Stored in directory: /root/.cache/pip/wheels/83/97/6b/e9e0cde099cc40f972b8dd23367308f7705ae06cd6d4714658\n",
            "Successfully built japanize-matplotlib\n",
            "Installing collected packages: japanize-matplotlib\n",
            "Successfully installed japanize-matplotlib-1.1.3\n"
          ]
        }
      ],
      "source": [
        "!git clone https://github.com/ghmagazine/python_stat_sample.git\n",
        "!mv ./python_stat_sample/data ./data\n",
        "!pip install japanize-matplotlib"
      ]
    },
    {
      "cell_type": "markdown",
      "source": [
        "インポートと設定"
      ],
      "metadata": {
        "id": "kr2gJJ_Jd8GO"
      }
    },
    {
      "cell_type": "code",
      "source": [
        "import numpy as np\n",
        "import pandas as pd\n",
        "\n",
        "import matplotlib.pyplot as plt\n",
        "import japanize_matplotlib\n",
        "import seaborn as sns\n",
        "\n",
        "%precision 3\n",
        "pd.set_option('precision', 3)"
      ],
      "metadata": {
        "id": "HIUQutXOd7aL"
      },
      "execution_count": 2,
      "outputs": []
    },
    {
      "cell_type": "markdown",
      "source": [
        "## 推測統計の全体像"
      ],
      "metadata": {
        "id": "l7VwTdQDHFqC"
      }
    },
    {
      "cell_type": "markdown",
      "source": [
        "母集団"
      ],
      "metadata": {
        "id": "AtjXlTVcHD2r"
      }
    },
    {
      "cell_type": "code",
      "source": [
        "all_scores = pd.read_csv('data/ch4_scores400.csv')['点数']\n",
        "all_scores"
      ],
      "metadata": {
        "colab": {
          "base_uri": "https://localhost:8080/"
        },
        "id": "91vtwU0tHDBJ",
        "outputId": "15640fb2-f934-4028-c15d-228d3385c62f"
      },
      "execution_count": 3,
      "outputs": [
        {
          "output_type": "execute_result",
          "data": {
            "text/plain": [
              "0      76\n",
              "1      55\n",
              "2      80\n",
              "3      80\n",
              "4      74\n",
              "       ..\n",
              "395    77\n",
              "396    60\n",
              "397    83\n",
              "398    80\n",
              "399    85\n",
              "Name: 点数, Length: 400, dtype: int64"
            ]
          },
          "metadata": {},
          "execution_count": 3
        }
      ]
    },
    {
      "cell_type": "markdown",
      "source": [
        "標本抽出"
      ],
      "metadata": {
        "id": "V6wShvddLsVc"
      }
    },
    {
      "cell_type": "code",
      "source": [
        "sample_scores = np.random.choice(all_scores, 20, replace=False)\n",
        "sample_scores"
      ],
      "metadata": {
        "colab": {
          "base_uri": "https://localhost:8080/"
        },
        "id": "BA5a-YGdLrX3",
        "outputId": "62e1d39b-c169-4253-cfc9-8b2a7cc35637"
      },
      "execution_count": null,
      "outputs": [
        {
          "output_type": "execute_result",
          "data": {
            "text/plain": [
              "array([43, 81, 70, 61, 77, 78, 54, 82, 67, 63, 67, 73, 47, 92, 70, 76, 91,\n",
              "       56, 83, 79])"
            ]
          },
          "metadata": {},
          "execution_count": 12
        }
      ]
    },
    {
      "cell_type": "markdown",
      "source": [
        "標本統計量"
      ],
      "metadata": {
        "id": "NVkcbq1pWUhH"
      }
    },
    {
      "cell_type": "code",
      "source": [
        "sample_scores.mean(), sample_scores.var()"
      ],
      "metadata": {
        "colab": {
          "base_uri": "https://localhost:8080/"
        },
        "id": "rfsr7H38WTlz",
        "outputId": "d6d0e7dc-b0b0-409f-8bb1-f3aada1c83e6"
      },
      "execution_count": null,
      "outputs": [
        {
          "output_type": "execute_result",
          "data": {
            "text/plain": [
              "(70.500, 172.550)"
            ]
          },
          "metadata": {},
          "execution_count": 13
        }
      ]
    },
    {
      "cell_type": "markdown",
      "source": [
        "抽出と統計量の計算を繰り返す"
      ],
      "metadata": {
        "id": "PUaXeMQUXbC4"
      }
    },
    {
      "cell_type": "code",
      "source": [
        "for i in range(10):\n",
        "    sample_scores = np.random.choice(all_scores, 20, replace=False)\n",
        "\n",
        "    mean, std = sample_scores.mean(), sample_scores.std()\n",
        "    print(f'{i + 1:02}回  平均: {mean:.1f}  標準偏差: {std:.2f}')"
      ],
      "metadata": {
        "colab": {
          "base_uri": "https://localhost:8080/"
        },
        "id": "r8DqHsazXaoS",
        "outputId": "51bbc360-9106-428a-f574-c290763fa0cd"
      },
      "execution_count": null,
      "outputs": [
        {
          "output_type": "stream",
          "name": "stdout",
          "text": [
            "01回  平均: 72.8  標準偏差: 12.26\n",
            "02回  平均: 67.1  標準偏差: 16.88\n",
            "03回  平均: 69.5  標準偏差: 11.43\n",
            "04回  平均: 67.5  標準偏差: 14.02\n",
            "05回  平均: 67.3  標準偏差: 14.52\n",
            "06回  平均: 70.1  標準偏差: 13.32\n",
            "07回  平均: 68.8  標準偏差: 13.23\n",
            "08回  平均: 66.0  標準偏差: 12.16\n",
            "09回  平均: 69.8  標準偏差: 12.02\n",
            "10回  平均: 64.8  標準偏差: 12.92\n"
          ]
        }
      ]
    },
    {
      "cell_type": "markdown",
      "source": [
        "## 確率モデルの全体像"
      ],
      "metadata": {
        "id": "WLiZjeNqb4gv"
      }
    },
    {
      "cell_type": "markdown",
      "source": [
        "確率変数"
      ],
      "metadata": {
        "id": "5qvfqJq-mHi1"
      }
    },
    {
      "cell_type": "code",
      "source": [
        "p = np.random.randint(1, 7)\n",
        "p"
      ],
      "metadata": {
        "colab": {
          "base_uri": "https://localhost:8080/"
        },
        "id": "FeXSBbDamItT",
        "outputId": "845aec3e-bdef-4fbc-dd98-a6f48da5ee32"
      },
      "execution_count": 4,
      "outputs": [
        {
          "output_type": "execute_result",
          "data": {
            "text/plain": [
              "5"
            ]
          },
          "metadata": {},
          "execution_count": 4
        }
      ]
    },
    {
      "cell_type": "markdown",
      "source": [
        "試行"
      ],
      "metadata": {
        "id": "hugwz8JuNZxF"
      }
    },
    {
      "cell_type": "code",
      "source": [
        "[np.random.randint(1, 7) for _ in range(10)]"
      ],
      "metadata": {
        "colab": {
          "base_uri": "https://localhost:8080/"
        },
        "id": "LVZv71JvseUa",
        "outputId": "b6f54720-2e75-491f-a5b6-873431df4faf"
      },
      "execution_count": 5,
      "outputs": [
        {
          "output_type": "execute_result",
          "data": {
            "text/plain": [
              "[4, 1, 2, 1, 5, 1, 1, 1, 2, 3]"
            ]
          },
          "metadata": {},
          "execution_count": 5
        }
      ]
    },
    {
      "cell_type": "markdown",
      "source": [
        "### 確率分布"
      ],
      "metadata": {
        "id": "LVTaKPn7NWil"
      }
    },
    {
      "cell_type": "markdown",
      "source": [
        "\n",
        "\n",
        "サイコロ\n",
        "\n"
      ],
      "metadata": {
        "id": "kD6Og4nYkJw2"
      }
    },
    {
      "cell_type": "code",
      "source": [
        "dice_df = pd.DataFrame(index=[1, 2, 3, 4, 5, 6])\n",
        "dice_df['確率'] = 1 / 6\n",
        "dice_df.T"
      ],
      "metadata": {
        "colab": {
          "base_uri": "https://localhost:8080/",
          "height": 81
        },
        "id": "5rNmjZN1M4mW",
        "outputId": "0b72ddcb-753f-4ef3-9ac8-3b3667412dd7"
      },
      "execution_count": 6,
      "outputs": [
        {
          "output_type": "execute_result",
          "data": {
            "text/plain": [
              "        1      2      3      4      5      6\n",
              "確率  0.167  0.167  0.167  0.167  0.167  0.167"
            ],
            "text/html": [
              "\n",
              "  <div id=\"df-5ca56600-7057-4374-bb6b-ac5747b6743a\">\n",
              "    <div class=\"colab-df-container\">\n",
              "      <div>\n",
              "<style scoped>\n",
              "    .dataframe tbody tr th:only-of-type {\n",
              "        vertical-align: middle;\n",
              "    }\n",
              "\n",
              "    .dataframe tbody tr th {\n",
              "        vertical-align: top;\n",
              "    }\n",
              "\n",
              "    .dataframe thead th {\n",
              "        text-align: right;\n",
              "    }\n",
              "</style>\n",
              "<table border=\"1\" class=\"dataframe\">\n",
              "  <thead>\n",
              "    <tr style=\"text-align: right;\">\n",
              "      <th></th>\n",
              "      <th>1</th>\n",
              "      <th>2</th>\n",
              "      <th>3</th>\n",
              "      <th>4</th>\n",
              "      <th>5</th>\n",
              "      <th>6</th>\n",
              "    </tr>\n",
              "  </thead>\n",
              "  <tbody>\n",
              "    <tr>\n",
              "      <th>確率</th>\n",
              "      <td>0.167</td>\n",
              "      <td>0.167</td>\n",
              "      <td>0.167</td>\n",
              "      <td>0.167</td>\n",
              "      <td>0.167</td>\n",
              "      <td>0.167</td>\n",
              "    </tr>\n",
              "  </tbody>\n",
              "</table>\n",
              "</div>\n",
              "      <button class=\"colab-df-convert\" onclick=\"convertToInteractive('df-5ca56600-7057-4374-bb6b-ac5747b6743a')\"\n",
              "              title=\"Convert this dataframe to an interactive table.\"\n",
              "              style=\"display:none;\">\n",
              "        \n",
              "  <svg xmlns=\"http://www.w3.org/2000/svg\" height=\"24px\"viewBox=\"0 0 24 24\"\n",
              "       width=\"24px\">\n",
              "    <path d=\"M0 0h24v24H0V0z\" fill=\"none\"/>\n",
              "    <path d=\"M18.56 5.44l.94 2.06.94-2.06 2.06-.94-2.06-.94-.94-2.06-.94 2.06-2.06.94zm-11 1L8.5 8.5l.94-2.06 2.06-.94-2.06-.94L8.5 2.5l-.94 2.06-2.06.94zm10 10l.94 2.06.94-2.06 2.06-.94-2.06-.94-.94-2.06-.94 2.06-2.06.94z\"/><path d=\"M17.41 7.96l-1.37-1.37c-.4-.4-.92-.59-1.43-.59-.52 0-1.04.2-1.43.59L10.3 9.45l-7.72 7.72c-.78.78-.78 2.05 0 2.83L4 21.41c.39.39.9.59 1.41.59.51 0 1.02-.2 1.41-.59l7.78-7.78 2.81-2.81c.8-.78.8-2.07 0-2.86zM5.41 20L4 18.59l7.72-7.72 1.47 1.35L5.41 20z\"/>\n",
              "  </svg>\n",
              "      </button>\n",
              "      \n",
              "  <style>\n",
              "    .colab-df-container {\n",
              "      display:flex;\n",
              "      flex-wrap:wrap;\n",
              "      gap: 12px;\n",
              "    }\n",
              "\n",
              "    .colab-df-convert {\n",
              "      background-color: #E8F0FE;\n",
              "      border: none;\n",
              "      border-radius: 50%;\n",
              "      cursor: pointer;\n",
              "      display: none;\n",
              "      fill: #1967D2;\n",
              "      height: 32px;\n",
              "      padding: 0 0 0 0;\n",
              "      width: 32px;\n",
              "    }\n",
              "\n",
              "    .colab-df-convert:hover {\n",
              "      background-color: #E2EBFA;\n",
              "      box-shadow: 0px 1px 2px rgba(60, 64, 67, 0.3), 0px 1px 3px 1px rgba(60, 64, 67, 0.15);\n",
              "      fill: #174EA6;\n",
              "    }\n",
              "\n",
              "    [theme=dark] .colab-df-convert {\n",
              "      background-color: #3B4455;\n",
              "      fill: #D2E3FC;\n",
              "    }\n",
              "\n",
              "    [theme=dark] .colab-df-convert:hover {\n",
              "      background-color: #434B5C;\n",
              "      box-shadow: 0px 1px 3px 1px rgba(0, 0, 0, 0.15);\n",
              "      filter: drop-shadow(0px 1px 2px rgba(0, 0, 0, 0.3));\n",
              "      fill: #FFFFFF;\n",
              "    }\n",
              "  </style>\n",
              "\n",
              "      <script>\n",
              "        const buttonEl =\n",
              "          document.querySelector('#df-5ca56600-7057-4374-bb6b-ac5747b6743a button.colab-df-convert');\n",
              "        buttonEl.style.display =\n",
              "          google.colab.kernel.accessAllowed ? 'block' : 'none';\n",
              "\n",
              "        async function convertToInteractive(key) {\n",
              "          const element = document.querySelector('#df-5ca56600-7057-4374-bb6b-ac5747b6743a');\n",
              "          const dataTable =\n",
              "            await google.colab.kernel.invokeFunction('convertToInteractive',\n",
              "                                                     [key], {});\n",
              "          if (!dataTable) return;\n",
              "\n",
              "          const docLinkHtml = 'Like what you see? Visit the ' +\n",
              "            '<a target=\"_blank\" href=https://colab.research.google.com/notebooks/data_table.ipynb>data table notebook</a>'\n",
              "            + ' to learn more about interactive tables.';\n",
              "          element.innerHTML = '';\n",
              "          dataTable['output_type'] = 'display_data';\n",
              "          await google.colab.output.renderOutput(dataTable, element);\n",
              "          const docLink = document.createElement('div');\n",
              "          docLink.innerHTML = docLinkHtml;\n",
              "          element.appendChild(docLink);\n",
              "        }\n",
              "      </script>\n",
              "    </div>\n",
              "  </div>\n",
              "  "
            ]
          },
          "metadata": {},
          "execution_count": 6
        }
      ]
    },
    {
      "cell_type": "markdown",
      "source": [
        "確率分布の合計"
      ],
      "metadata": {
        "id": "79uxUli-nnsY"
      }
    },
    {
      "cell_type": "code",
      "source": [
        "dice_df['確率'].sum()"
      ],
      "metadata": {
        "colab": {
          "base_uri": "https://localhost:8080/"
        },
        "id": "CWZneDGKnqCX",
        "outputId": "c708ea8b-e8ce-4297-e10c-2f981b806b4f"
      },
      "execution_count": 7,
      "outputs": [
        {
          "output_type": "execute_result",
          "data": {
            "text/plain": [
              "0.9999999999999999"
            ]
          },
          "metadata": {},
          "execution_count": 7
        }
      ]
    },
    {
      "cell_type": "markdown",
      "source": [
        "コイン"
      ],
      "metadata": {
        "id": "Tivjb6L-BPSo"
      }
    },
    {
      "cell_type": "code",
      "source": [
        "coin_df = pd.DataFrame(index=['表', '裏'])\n",
        "coin_df['確率'] = 1 / 2\n",
        "coin_df.T"
      ],
      "metadata": {
        "colab": {
          "base_uri": "https://localhost:8080/"
        },
        "id": "ZpxNVeCrBQoO",
        "outputId": "79d34424-b67a-4084-dcab-ca564bb02449"
      },
      "execution_count": null,
      "outputs": [
        {
          "output_type": "execute_result",
          "data": {
            "text/plain": [
              "      表    裏\n",
              "確率  0.5  0.5"
            ],
            "text/html": [
              "\n",
              "  <div id=\"df-7ee5b21b-b300-4e4d-a674-2cdddfd883b0\">\n",
              "    <div class=\"colab-df-container\">\n",
              "      <div>\n",
              "<style scoped>\n",
              "    .dataframe tbody tr th:only-of-type {\n",
              "        vertical-align: middle;\n",
              "    }\n",
              "\n",
              "    .dataframe tbody tr th {\n",
              "        vertical-align: top;\n",
              "    }\n",
              "\n",
              "    .dataframe thead th {\n",
              "        text-align: right;\n",
              "    }\n",
              "</style>\n",
              "<table border=\"1\" class=\"dataframe\">\n",
              "  <thead>\n",
              "    <tr style=\"text-align: right;\">\n",
              "      <th></th>\n",
              "      <th>表</th>\n",
              "      <th>裏</th>\n",
              "    </tr>\n",
              "  </thead>\n",
              "  <tbody>\n",
              "    <tr>\n",
              "      <th>確率</th>\n",
              "      <td>0.5</td>\n",
              "      <td>0.5</td>\n",
              "    </tr>\n",
              "  </tbody>\n",
              "</table>\n",
              "</div>\n",
              "      <button class=\"colab-df-convert\" onclick=\"convertToInteractive('df-7ee5b21b-b300-4e4d-a674-2cdddfd883b0')\"\n",
              "              title=\"Convert this dataframe to an interactive table.\"\n",
              "              style=\"display:none;\">\n",
              "        \n",
              "  <svg xmlns=\"http://www.w3.org/2000/svg\" height=\"24px\"viewBox=\"0 0 24 24\"\n",
              "       width=\"24px\">\n",
              "    <path d=\"M0 0h24v24H0V0z\" fill=\"none\"/>\n",
              "    <path d=\"M18.56 5.44l.94 2.06.94-2.06 2.06-.94-2.06-.94-.94-2.06-.94 2.06-2.06.94zm-11 1L8.5 8.5l.94-2.06 2.06-.94-2.06-.94L8.5 2.5l-.94 2.06-2.06.94zm10 10l.94 2.06.94-2.06 2.06-.94-2.06-.94-.94-2.06-.94 2.06-2.06.94z\"/><path d=\"M17.41 7.96l-1.37-1.37c-.4-.4-.92-.59-1.43-.59-.52 0-1.04.2-1.43.59L10.3 9.45l-7.72 7.72c-.78.78-.78 2.05 0 2.83L4 21.41c.39.39.9.59 1.41.59.51 0 1.02-.2 1.41-.59l7.78-7.78 2.81-2.81c.8-.78.8-2.07 0-2.86zM5.41 20L4 18.59l7.72-7.72 1.47 1.35L5.41 20z\"/>\n",
              "  </svg>\n",
              "      </button>\n",
              "      \n",
              "  <style>\n",
              "    .colab-df-container {\n",
              "      display:flex;\n",
              "      flex-wrap:wrap;\n",
              "      gap: 12px;\n",
              "    }\n",
              "\n",
              "    .colab-df-convert {\n",
              "      background-color: #E8F0FE;\n",
              "      border: none;\n",
              "      border-radius: 50%;\n",
              "      cursor: pointer;\n",
              "      display: none;\n",
              "      fill: #1967D2;\n",
              "      height: 32px;\n",
              "      padding: 0 0 0 0;\n",
              "      width: 32px;\n",
              "    }\n",
              "\n",
              "    .colab-df-convert:hover {\n",
              "      background-color: #E2EBFA;\n",
              "      box-shadow: 0px 1px 2px rgba(60, 64, 67, 0.3), 0px 1px 3px 1px rgba(60, 64, 67, 0.15);\n",
              "      fill: #174EA6;\n",
              "    }\n",
              "\n",
              "    [theme=dark] .colab-df-convert {\n",
              "      background-color: #3B4455;\n",
              "      fill: #D2E3FC;\n",
              "    }\n",
              "\n",
              "    [theme=dark] .colab-df-convert:hover {\n",
              "      background-color: #434B5C;\n",
              "      box-shadow: 0px 1px 3px 1px rgba(0, 0, 0, 0.15);\n",
              "      filter: drop-shadow(0px 1px 2px rgba(0, 0, 0, 0.3));\n",
              "      fill: #FFFFFF;\n",
              "    }\n",
              "  </style>\n",
              "\n",
              "      <script>\n",
              "        const buttonEl =\n",
              "          document.querySelector('#df-7ee5b21b-b300-4e4d-a674-2cdddfd883b0 button.colab-df-convert');\n",
              "        buttonEl.style.display =\n",
              "          google.colab.kernel.accessAllowed ? 'block' : 'none';\n",
              "\n",
              "        async function convertToInteractive(key) {\n",
              "          const element = document.querySelector('#df-7ee5b21b-b300-4e4d-a674-2cdddfd883b0');\n",
              "          const dataTable =\n",
              "            await google.colab.kernel.invokeFunction('convertToInteractive',\n",
              "                                                     [key], {});\n",
              "          if (!dataTable) return;\n",
              "\n",
              "          const docLinkHtml = 'Like what you see? Visit the ' +\n",
              "            '<a target=\"_blank\" href=https://colab.research.google.com/notebooks/data_table.ipynb>data table notebook</a>'\n",
              "            + ' to learn more about interactive tables.';\n",
              "          element.innerHTML = '';\n",
              "          dataTable['output_type'] = 'display_data';\n",
              "          await google.colab.output.renderOutput(dataTable, element);\n",
              "          const docLink = document.createElement('div');\n",
              "          docLink.innerHTML = docLinkHtml;\n",
              "          element.appendChild(docLink);\n",
              "        }\n",
              "      </script>\n",
              "    </div>\n",
              "  </div>\n",
              "  "
            ]
          },
          "metadata": {},
          "execution_count": 19
        }
      ]
    },
    {
      "cell_type": "markdown",
      "source": [
        "## いかさまサイコロ"
      ],
      "metadata": {
        "id": "QJeytnFbSCCE"
      }
    },
    {
      "cell_type": "markdown",
      "source": [
        "我々は知ることができない，いかさまサイコロの確率分布"
      ],
      "metadata": {
        "id": "p7t4zTBjSJuY"
      }
    },
    {
      "cell_type": "code",
      "source": [
        "roll_index = pd.Index([1, 2, 3, 4, 5, 6], name='出目')\n",
        "loaded_dice_df = pd.DataFrame(index=roll_index)\n",
        "loaded_dice_df['確率'] = [1/21, 2/21, 3/21, 4/21, 5/21, 6/21]\n",
        "loaded_dice_df"
      ],
      "metadata": {
        "colab": {
          "base_uri": "https://localhost:8080/",
          "height": 269
        },
        "id": "G007EV1YSMzo",
        "outputId": "7b6fb856-57bc-496f-ae30-9da391f3d597"
      },
      "execution_count": null,
      "outputs": [
        {
          "output_type": "execute_result",
          "data": {
            "text/plain": [
              "       確率\n",
              "出目       \n",
              "1   0.048\n",
              "2   0.095\n",
              "3   0.143\n",
              "4   0.190\n",
              "5   0.238\n",
              "6   0.286"
            ],
            "text/html": [
              "\n",
              "  <div id=\"df-e33ede19-e8ab-4f19-95ae-d9c16905a83d\">\n",
              "    <div class=\"colab-df-container\">\n",
              "      <div>\n",
              "<style scoped>\n",
              "    .dataframe tbody tr th:only-of-type {\n",
              "        vertical-align: middle;\n",
              "    }\n",
              "\n",
              "    .dataframe tbody tr th {\n",
              "        vertical-align: top;\n",
              "    }\n",
              "\n",
              "    .dataframe thead th {\n",
              "        text-align: right;\n",
              "    }\n",
              "</style>\n",
              "<table border=\"1\" class=\"dataframe\">\n",
              "  <thead>\n",
              "    <tr style=\"text-align: right;\">\n",
              "      <th></th>\n",
              "      <th>確率</th>\n",
              "    </tr>\n",
              "    <tr>\n",
              "      <th>出目</th>\n",
              "      <th></th>\n",
              "    </tr>\n",
              "  </thead>\n",
              "  <tbody>\n",
              "    <tr>\n",
              "      <th>1</th>\n",
              "      <td>0.048</td>\n",
              "    </tr>\n",
              "    <tr>\n",
              "      <th>2</th>\n",
              "      <td>0.095</td>\n",
              "    </tr>\n",
              "    <tr>\n",
              "      <th>3</th>\n",
              "      <td>0.143</td>\n",
              "    </tr>\n",
              "    <tr>\n",
              "      <th>4</th>\n",
              "      <td>0.190</td>\n",
              "    </tr>\n",
              "    <tr>\n",
              "      <th>5</th>\n",
              "      <td>0.238</td>\n",
              "    </tr>\n",
              "    <tr>\n",
              "      <th>6</th>\n",
              "      <td>0.286</td>\n",
              "    </tr>\n",
              "  </tbody>\n",
              "</table>\n",
              "</div>\n",
              "      <button class=\"colab-df-convert\" onclick=\"convertToInteractive('df-e33ede19-e8ab-4f19-95ae-d9c16905a83d')\"\n",
              "              title=\"Convert this dataframe to an interactive table.\"\n",
              "              style=\"display:none;\">\n",
              "        \n",
              "  <svg xmlns=\"http://www.w3.org/2000/svg\" height=\"24px\"viewBox=\"0 0 24 24\"\n",
              "       width=\"24px\">\n",
              "    <path d=\"M0 0h24v24H0V0z\" fill=\"none\"/>\n",
              "    <path d=\"M18.56 5.44l.94 2.06.94-2.06 2.06-.94-2.06-.94-.94-2.06-.94 2.06-2.06.94zm-11 1L8.5 8.5l.94-2.06 2.06-.94-2.06-.94L8.5 2.5l-.94 2.06-2.06.94zm10 10l.94 2.06.94-2.06 2.06-.94-2.06-.94-.94-2.06-.94 2.06-2.06.94z\"/><path d=\"M17.41 7.96l-1.37-1.37c-.4-.4-.92-.59-1.43-.59-.52 0-1.04.2-1.43.59L10.3 9.45l-7.72 7.72c-.78.78-.78 2.05 0 2.83L4 21.41c.39.39.9.59 1.41.59.51 0 1.02-.2 1.41-.59l7.78-7.78 2.81-2.81c.8-.78.8-2.07 0-2.86zM5.41 20L4 18.59l7.72-7.72 1.47 1.35L5.41 20z\"/>\n",
              "  </svg>\n",
              "      </button>\n",
              "      \n",
              "  <style>\n",
              "    .colab-df-container {\n",
              "      display:flex;\n",
              "      flex-wrap:wrap;\n",
              "      gap: 12px;\n",
              "    }\n",
              "\n",
              "    .colab-df-convert {\n",
              "      background-color: #E8F0FE;\n",
              "      border: none;\n",
              "      border-radius: 50%;\n",
              "      cursor: pointer;\n",
              "      display: none;\n",
              "      fill: #1967D2;\n",
              "      height: 32px;\n",
              "      padding: 0 0 0 0;\n",
              "      width: 32px;\n",
              "    }\n",
              "\n",
              "    .colab-df-convert:hover {\n",
              "      background-color: #E2EBFA;\n",
              "      box-shadow: 0px 1px 2px rgba(60, 64, 67, 0.3), 0px 1px 3px 1px rgba(60, 64, 67, 0.15);\n",
              "      fill: #174EA6;\n",
              "    }\n",
              "\n",
              "    [theme=dark] .colab-df-convert {\n",
              "      background-color: #3B4455;\n",
              "      fill: #D2E3FC;\n",
              "    }\n",
              "\n",
              "    [theme=dark] .colab-df-convert:hover {\n",
              "      background-color: #434B5C;\n",
              "      box-shadow: 0px 1px 3px 1px rgba(0, 0, 0, 0.15);\n",
              "      filter: drop-shadow(0px 1px 2px rgba(0, 0, 0, 0.3));\n",
              "      fill: #FFFFFF;\n",
              "    }\n",
              "  </style>\n",
              "\n",
              "      <script>\n",
              "        const buttonEl =\n",
              "          document.querySelector('#df-e33ede19-e8ab-4f19-95ae-d9c16905a83d button.colab-df-convert');\n",
              "        buttonEl.style.display =\n",
              "          google.colab.kernel.accessAllowed ? 'block' : 'none';\n",
              "\n",
              "        async function convertToInteractive(key) {\n",
              "          const element = document.querySelector('#df-e33ede19-e8ab-4f19-95ae-d9c16905a83d');\n",
              "          const dataTable =\n",
              "            await google.colab.kernel.invokeFunction('convertToInteractive',\n",
              "                                                     [key], {});\n",
              "          if (!dataTable) return;\n",
              "\n",
              "          const docLinkHtml = 'Like what you see? Visit the ' +\n",
              "            '<a target=\"_blank\" href=https://colab.research.google.com/notebooks/data_table.ipynb>data table notebook</a>'\n",
              "            + ' to learn more about interactive tables.';\n",
              "          element.innerHTML = '';\n",
              "          dataTable['output_type'] = 'display_data';\n",
              "          await google.colab.output.renderOutput(dataTable, element);\n",
              "          const docLink = document.createElement('div');\n",
              "          docLink.innerHTML = docLinkHtml;\n",
              "          element.appendChild(docLink);\n",
              "        }\n",
              "      </script>\n",
              "    </div>\n",
              "  </div>\n",
              "  "
            ]
          },
          "metadata": {},
          "execution_count": 33
        }
      ]
    },
    {
      "cell_type": "markdown",
      "source": [
        "いかさまサイコロを100回試行"
      ],
      "metadata": {
        "id": "tplzBwlzXB5o"
      }
    },
    {
      "cell_type": "code",
      "source": [
        "num_trial = 100\n",
        "sample = np.random.choice(loaded_dice_df.index, num_trial, p=loaded_dice_df['確率'])\n",
        "sample"
      ],
      "metadata": {
        "colab": {
          "base_uri": "https://localhost:8080/"
        },
        "id": "h2pje9wtW5lb",
        "outputId": "889b1be3-6261-4e53-a0c8-26215662a848"
      },
      "execution_count": null,
      "outputs": [
        {
          "output_type": "execute_result",
          "data": {
            "text/plain": [
              "array([6, 5, 5, 6, 5, 3, 6, 6, 6, 5, 2, 2, 4, 6, 3, 5, 4, 3, 5, 3, 6, 5,\n",
              "       4, 5, 5, 4, 6, 6, 6, 6, 5, 4, 5, 2, 6, 6, 2, 6, 3, 6, 1, 5, 5, 5,\n",
              "       1, 6, 6, 6, 3, 6, 2, 4, 5, 4, 5, 3, 5, 6, 6, 6, 3, 5, 4, 5, 1, 6,\n",
              "       4, 2, 3, 3, 6, 5, 5, 6, 2, 6, 5, 6, 4, 6, 5, 5, 4, 4, 4, 3, 6, 3,\n",
              "       6, 6, 3, 6, 2, 4, 6, 6, 1, 1, 1, 2])"
            ]
          },
          "metadata": {},
          "execution_count": 31
        }
      ]
    },
    {
      "cell_type": "markdown",
      "source": [
        "100回試行時の度数分布表"
      ],
      "metadata": {
        "id": "NM-tKkR1xKF3"
      }
    },
    {
      "cell_type": "code",
      "source": [
        "freq, _ = np.histogram(sample, bins=6, range=(1, 7))\n",
        "pd.DataFrame({'度数': freq, '相対度数': freq / num_trial}, index=roll_index)"
      ],
      "metadata": {
        "colab": {
          "base_uri": "https://localhost:8080/",
          "height": 269
        },
        "id": "p8be1wyEua1A",
        "outputId": "7b0c9193-62e1-4be4-d1f7-b87ca465b015"
      },
      "execution_count": null,
      "outputs": [
        {
          "output_type": "execute_result",
          "data": {
            "text/plain": [
              "    度数  相対度数\n",
              "出目          \n",
              "1    6  0.06\n",
              "2    9  0.09\n",
              "3   13  0.13\n",
              "4   14  0.14\n",
              "5   24  0.24\n",
              "6   34  0.34"
            ],
            "text/html": [
              "\n",
              "  <div id=\"df-6174cd82-1624-4a5e-a63d-191bdaa370e4\">\n",
              "    <div class=\"colab-df-container\">\n",
              "      <div>\n",
              "<style scoped>\n",
              "    .dataframe tbody tr th:only-of-type {\n",
              "        vertical-align: middle;\n",
              "    }\n",
              "\n",
              "    .dataframe tbody tr th {\n",
              "        vertical-align: top;\n",
              "    }\n",
              "\n",
              "    .dataframe thead th {\n",
              "        text-align: right;\n",
              "    }\n",
              "</style>\n",
              "<table border=\"1\" class=\"dataframe\">\n",
              "  <thead>\n",
              "    <tr style=\"text-align: right;\">\n",
              "      <th></th>\n",
              "      <th>度数</th>\n",
              "      <th>相対度数</th>\n",
              "    </tr>\n",
              "    <tr>\n",
              "      <th>出目</th>\n",
              "      <th></th>\n",
              "      <th></th>\n",
              "    </tr>\n",
              "  </thead>\n",
              "  <tbody>\n",
              "    <tr>\n",
              "      <th>1</th>\n",
              "      <td>6</td>\n",
              "      <td>0.06</td>\n",
              "    </tr>\n",
              "    <tr>\n",
              "      <th>2</th>\n",
              "      <td>9</td>\n",
              "      <td>0.09</td>\n",
              "    </tr>\n",
              "    <tr>\n",
              "      <th>3</th>\n",
              "      <td>13</td>\n",
              "      <td>0.13</td>\n",
              "    </tr>\n",
              "    <tr>\n",
              "      <th>4</th>\n",
              "      <td>14</td>\n",
              "      <td>0.14</td>\n",
              "    </tr>\n",
              "    <tr>\n",
              "      <th>5</th>\n",
              "      <td>24</td>\n",
              "      <td>0.24</td>\n",
              "    </tr>\n",
              "    <tr>\n",
              "      <th>6</th>\n",
              "      <td>34</td>\n",
              "      <td>0.34</td>\n",
              "    </tr>\n",
              "  </tbody>\n",
              "</table>\n",
              "</div>\n",
              "      <button class=\"colab-df-convert\" onclick=\"convertToInteractive('df-6174cd82-1624-4a5e-a63d-191bdaa370e4')\"\n",
              "              title=\"Convert this dataframe to an interactive table.\"\n",
              "              style=\"display:none;\">\n",
              "        \n",
              "  <svg xmlns=\"http://www.w3.org/2000/svg\" height=\"24px\"viewBox=\"0 0 24 24\"\n",
              "       width=\"24px\">\n",
              "    <path d=\"M0 0h24v24H0V0z\" fill=\"none\"/>\n",
              "    <path d=\"M18.56 5.44l.94 2.06.94-2.06 2.06-.94-2.06-.94-.94-2.06-.94 2.06-2.06.94zm-11 1L8.5 8.5l.94-2.06 2.06-.94-2.06-.94L8.5 2.5l-.94 2.06-2.06.94zm10 10l.94 2.06.94-2.06 2.06-.94-2.06-.94-.94-2.06-.94 2.06-2.06.94z\"/><path d=\"M17.41 7.96l-1.37-1.37c-.4-.4-.92-.59-1.43-.59-.52 0-1.04.2-1.43.59L10.3 9.45l-7.72 7.72c-.78.78-.78 2.05 0 2.83L4 21.41c.39.39.9.59 1.41.59.51 0 1.02-.2 1.41-.59l7.78-7.78 2.81-2.81c.8-.78.8-2.07 0-2.86zM5.41 20L4 18.59l7.72-7.72 1.47 1.35L5.41 20z\"/>\n",
              "  </svg>\n",
              "      </button>\n",
              "      \n",
              "  <style>\n",
              "    .colab-df-container {\n",
              "      display:flex;\n",
              "      flex-wrap:wrap;\n",
              "      gap: 12px;\n",
              "    }\n",
              "\n",
              "    .colab-df-convert {\n",
              "      background-color: #E8F0FE;\n",
              "      border: none;\n",
              "      border-radius: 50%;\n",
              "      cursor: pointer;\n",
              "      display: none;\n",
              "      fill: #1967D2;\n",
              "      height: 32px;\n",
              "      padding: 0 0 0 0;\n",
              "      width: 32px;\n",
              "    }\n",
              "\n",
              "    .colab-df-convert:hover {\n",
              "      background-color: #E2EBFA;\n",
              "      box-shadow: 0px 1px 2px rgba(60, 64, 67, 0.3), 0px 1px 3px 1px rgba(60, 64, 67, 0.15);\n",
              "      fill: #174EA6;\n",
              "    }\n",
              "\n",
              "    [theme=dark] .colab-df-convert {\n",
              "      background-color: #3B4455;\n",
              "      fill: #D2E3FC;\n",
              "    }\n",
              "\n",
              "    [theme=dark] .colab-df-convert:hover {\n",
              "      background-color: #434B5C;\n",
              "      box-shadow: 0px 1px 3px 1px rgba(0, 0, 0, 0.15);\n",
              "      filter: drop-shadow(0px 1px 2px rgba(0, 0, 0, 0.3));\n",
              "      fill: #FFFFFF;\n",
              "    }\n",
              "  </style>\n",
              "\n",
              "      <script>\n",
              "        const buttonEl =\n",
              "          document.querySelector('#df-6174cd82-1624-4a5e-a63d-191bdaa370e4 button.colab-df-convert');\n",
              "        buttonEl.style.display =\n",
              "          google.colab.kernel.accessAllowed ? 'block' : 'none';\n",
              "\n",
              "        async function convertToInteractive(key) {\n",
              "          const element = document.querySelector('#df-6174cd82-1624-4a5e-a63d-191bdaa370e4');\n",
              "          const dataTable =\n",
              "            await google.colab.kernel.invokeFunction('convertToInteractive',\n",
              "                                                     [key], {});\n",
              "          if (!dataTable) return;\n",
              "\n",
              "          const docLinkHtml = 'Like what you see? Visit the ' +\n",
              "            '<a target=\"_blank\" href=https://colab.research.google.com/notebooks/data_table.ipynb>data table notebook</a>'\n",
              "            + ' to learn more about interactive tables.';\n",
              "          element.innerHTML = '';\n",
              "          dataTable['output_type'] = 'display_data';\n",
              "          await google.colab.output.renderOutput(dataTable, element);\n",
              "          const docLink = document.createElement('div');\n",
              "          docLink.innerHTML = docLinkHtml;\n",
              "          element.appendChild(docLink);\n",
              "        }\n",
              "      </script>\n",
              "    </div>\n",
              "  </div>\n",
              "  "
            ]
          },
          "metadata": {},
          "execution_count": 35
        }
      ]
    },
    {
      "cell_type": "markdown",
      "source": [
        "100回試行時のヒストグラム"
      ],
      "metadata": {
        "id": "BPCQUH9HxO7u"
      }
    },
    {
      "cell_type": "code",
      "source": [
        "def show_hist_loaded_dice():\n",
        "    plt.figure(figsize=(10, 6))\n",
        "    plt.hist(sample, bins=6, range=(1, 7), density=True, label=f'{num_trial}回試行による相対度数分布')\n",
        "    plt.hlines(loaded_dice_df['確率'], np.arange(1, 7), np.arange(2, 8), color='red', lw=3, label='実際の確率分布')\n",
        "    plt.xticks(np.linspace(1.5, 6.5, 6), labels=np.arange(1, 7))\n",
        "    plt.xlabel('出目')\n",
        "    plt.ylabel('相対度数')\n",
        "    plt.legend()\n",
        "    plt.grid(True)\n",
        "    plt.show()\n",
        "\n",
        "show_hist_loaded_dice()"
      ],
      "metadata": {
        "colab": {
          "base_uri": "https://localhost:8080/",
          "height": 386
        },
        "id": "VOcHUB64xQxt",
        "outputId": "84906700-8e12-4b61-f6eb-9ae15b2083ed"
      },
      "execution_count": null,
      "outputs": [
        {
          "output_type": "display_data",
          "data": {
            "text/plain": [
              "<Figure size 720x432 with 1 Axes>"
            ],
            "image/png": "[encoded data removed]"
          },
          "metadata": {
            "needs_background": "light"
          }
        }
      ]
    },
    {
      "cell_type": "markdown",
      "source": [
        "5000回試行時のヒストグラム"
      ],
      "metadata": {
        "id": "Urs5cK1d3Ngp"
      }
    },
    {
      "cell_type": "code",
      "source": [
        "num_trial = 5000\n",
        "sample = np.random.choice(loaded_dice_df.index, num_trial, p=loaded_dice_df['確率'])\n",
        "\n",
        "show_hist_loaded_dice()"
      ],
      "metadata": {
        "colab": {
          "base_uri": "https://localhost:8080/",
          "height": 390
        },
        "id": "7LnZvmCz3Rez",
        "outputId": "d423c721-2bdd-45b6-dec9-4ad820a99bef"
      },
      "execution_count": null,
      "outputs": [
        {
          "output_type": "display_data",
          "data": {
            "text/plain": [
              "<Figure size 720x432 with 1 Axes>"
            ],
            "image/png": "[encoded data removed]"
          },
          "metadata": {
            "needs_background": "light"
          }
        }
      ]
    },
    {
      "cell_type": "markdown",
      "source": [
        "## 推測統計と確率モデル"
      ],
      "metadata": {
        "id": "AeUriipglPdA"
      }
    },
    {
      "cell_type": "markdown",
      "source": [
        "全生徒のヒストグラム（相対度数分布）"
      ],
      "metadata": {
        "id": "kxWH0OH1lSrO"
      }
    },
    {
      "cell_type": "code",
      "source": [
        "def show_hist_scores(s):\n",
        "    plt.figure(figsize=(10, 6))\n",
        "    plt.hist(s, bins=100, range=(0, 100), density=True)\n",
        "    plt.xlim(20, 100)\n",
        "    plt.xlabel('点数')\n",
        "    plt.ylabel('相対度数')\n",
        "    plt.grid(True)\n",
        "    plt.show()\n",
        "\n",
        "all_scores = pd.read_csv('data/ch4_scores400.csv')['点数']\n",
        "show_hist_scores(all_scores)"
      ],
      "metadata": {
        "colab": {
          "base_uri": "https://localhost:8080/",
          "height": 386
        },
        "id": "kCIzkv7rlZ07",
        "outputId": "33c972fa-eb72-4b04-d422-f41ab5b0b875"
      },
      "execution_count": null,
      "outputs": [
        {
          "output_type": "display_data",
          "data": {
            "text/plain": [
              "<Figure size 720x432 with 1 Axes>"
            ],
            "image/png": "[encoded data removed]"
          },
          "metadata": {
            "needs_background": "light"
          }
        }
      ]
    },
    {
      "cell_type": "markdown",
      "source": [
        "無作為抽出の試行1回"
      ],
      "metadata": {
        "id": "-Rl2k1vlo-qP"
      }
    },
    {
      "cell_type": "code",
      "source": [
        "np.random.choice(all_scores)"
      ],
      "metadata": {
        "colab": {
          "base_uri": "https://localhost:8080/"
        },
        "id": "1kI9uFyAo9k9",
        "outputId": "471e0b7f-c2c9-4565-93d1-def7e7162b4f"
      },
      "execution_count": null,
      "outputs": [
        {
          "output_type": "execute_result",
          "data": {
            "text/plain": [
              "76"
            ]
          },
          "metadata": {},
          "execution_count": 9
        }
      ]
    },
    {
      "cell_type": "markdown",
      "source": [
        "試行100回のヒストグラム"
      ],
      "metadata": {
        "id": "0whdA8Hxta3t"
      }
    },
    {
      "cell_type": "code",
      "source": [
        "scores = np.random.choice(all_scores, 100)\n",
        "show_hist_scores(scores)"
      ],
      "metadata": {
        "colab": {
          "base_uri": "https://localhost:8080/",
          "height": 386
        },
        "id": "gH7en0uZtdOz",
        "outputId": "1779bb5f-a32b-4cb4-8ca4-1ec5eb480b33"
      },
      "execution_count": null,
      "outputs": [
        {
          "output_type": "display_data",
          "data": {
            "text/plain": [
              "<Figure size 720x432 with 1 Axes>"
            ],
            "image/png": "[encoded data removed]"
          },
          "metadata": {
            "needs_background": "light"
          }
        }
      ]
    },
    {
      "cell_type": "markdown",
      "source": [
        "試行10000回のヒストグラム"
      ],
      "metadata": {
        "id": "QWGKXLe8XGn_"
      }
    },
    {
      "cell_type": "code",
      "source": [
        "scores = np.random.choice(all_scores, 10000)\n",
        "show_hist_scores(scores)"
      ],
      "metadata": {
        "colab": {
          "base_uri": "https://localhost:8080/",
          "height": 386
        },
        "id": "7RVQX-0RXKhm",
        "outputId": "e2ec167f-27fa-4d2d-c861-992f067f027b"
      },
      "execution_count": null,
      "outputs": [
        {
          "output_type": "display_data",
          "data": {
            "text/plain": [
              "<Figure size 720x432 with 1 Axes>"
            ],
            "image/png": "[encoded data removed]"
          },
          "metadata": {
            "needs_background": "light"
          }
        }
      ]
    },
    {
      "cell_type": "markdown",
      "source": [
        "## 標本平均という確率変数"
      ],
      "metadata": {
        "id": "QB0mdWLVbCuJ"
      }
    },
    {
      "cell_type": "markdown",
      "source": [
        "20人分の標本平均の相対度数分布"
      ],
      "metadata": {
        "id": "BEqUfWUUhsAg"
      }
    },
    {
      "cell_type": "code",
      "source": [
        "sample_means = [np.random.choice(all_scores, 20).mean() for _ in range(10000)]\n",
        "\n",
        "plt.figure(figsize=(10, 6))\n",
        "plt.hist(sample_means, bins=100, range=(0, 100), density=True, label='相対度数分布')\n",
        "plt.vlines(np.mean(all_scores), 0, 1, color='red', label='母平均')\n",
        "plt.xlim(50, 90)\n",
        "plt.ylim(0, 0.15)\n",
        "plt.xlabel('点数')\n",
        "plt.ylabel('相対度数')\n",
        "plt.legend()\n",
        "plt.grid(True)\n",
        "plt.show()"
      ],
      "metadata": {
        "colab": {
          "base_uri": "https://localhost:8080/",
          "height": 386
        },
        "id": "MvF8C4slbEZr",
        "outputId": "f8b5cf15-109b-4981-8dac-866d72ae7453"
      },
      "execution_count": null,
      "outputs": [
        {
          "output_type": "display_data",
          "data": {
            "text/plain": [
              "<Figure size 720x432 with 1 Axes>"
            ],
            "image/png": "[encoded data removed]"
          },
          "metadata": {
            "needs_background": "light"
          }
        }
      ]
    },
    {
      "cell_type": "markdown",
      "source": [
        "# 離散型確率変数"
      ],
      "metadata": {
        "id": "_QXO0HugQslD"
      }
    },
    {
      "cell_type": "markdown",
      "source": [
        "## 1次元"
      ],
      "metadata": {
        "id": "WxGcVQBWQuj1"
      }
    },
    {
      "cell_type": "markdown",
      "source": [
        "### 確率質量関数"
      ],
      "metadata": {
        "id": "Z5lv3w93AEih"
      }
    },
    {
      "cell_type": "markdown",
      "source": [
        "確率変数がとりうる値"
      ],
      "metadata": {
        "id": "uX2RT3S4AB7o"
      }
    },
    {
      "cell_type": "code",
      "source": [
        "x_set = np.array([1, 2, 3, 4, 5, 6])"
      ],
      "metadata": {
        "id": "scSOeI4R9FRC"
      },
      "execution_count": null,
      "outputs": []
    },
    {
      "cell_type": "markdown",
      "source": [
        "確率関数f"
      ],
      "metadata": {
        "id": "a7fKG7_eAgJI"
      }
    },
    {
      "cell_type": "code",
      "source": [
        "def f(x):\n",
        "    return x / 21 if x in x_set else 0"
      ],
      "metadata": {
        "id": "OdtCzW0j8Z5-"
      },
      "execution_count": null,
      "outputs": []
    },
    {
      "cell_type": "markdown",
      "source": [
        "確率変数X"
      ],
      "metadata": {
        "id": "UfhXLH26AijT"
      }
    },
    {
      "cell_type": "code",
      "source": [
        "X = [x_set, f]"
      ],
      "metadata": {
        "id": "ncAD9j_yAdTJ"
      },
      "execution_count": null,
      "outputs": []
    },
    {
      "cell_type": "markdown",
      "source": [
        "確率分布"
      ],
      "metadata": {
        "id": "jb22AhTFdtfS"
      }
    },
    {
      "cell_type": "code",
      "source": [
        "prob = np.array([f(x) for x in x_set])\n",
        "dict(zip(x_set, prob))"
      ],
      "metadata": {
        "colab": {
          "base_uri": "https://localhost:8080/"
        },
        "id": "DDJXSrpHduqz",
        "outputId": "74d19ce7-2753-4f0c-f83a-b4eb5c51f30f"
      },
      "execution_count": null,
      "outputs": [
        {
          "output_type": "execute_result",
          "data": {
            "text/plain": [
              "{1: 0.048, 2: 0.095, 3: 0.143, 4: 0.190, 5: 0.238, 6: 0.286}"
            ]
          },
          "metadata": {},
          "execution_count": 7
        }
      ]
    },
    {
      "cell_type": "markdown",
      "source": [
        "確率の性質"
      ],
      "metadata": {
        "id": "hSy5DXQNf1a4"
      }
    },
    {
      "cell_type": "code",
      "source": [
        "print(f'すべて0以上: {np.all(prob >= 0)}')\n",
        "print(f'総和: {np.sum(prob):.3f}')"
      ],
      "metadata": {
        "colab": {
          "base_uri": "https://localhost:8080/"
        },
        "id": "lcRMq2Yff5Pz",
        "outputId": "a971b002-b9e3-45bb-c2ed-ef09576fbb87"
      },
      "execution_count": null,
      "outputs": [
        {
          "output_type": "stream",
          "name": "stdout",
          "text": [
            "すべて0以上: True\n",
            "総和: 1.000\n"
          ]
        }
      ]
    },
    {
      "cell_type": "markdown",
      "source": [
        "### 累積分布関数"
      ],
      "metadata": {
        "id": "e0qxF3qj6yrq"
      }
    },
    {
      "cell_type": "code",
      "source": [
        "def F(x):\n",
        "    return np.sum([f(xx) for xx in x_set if xx  <= x])\n",
        "\n",
        "F(4)"
      ],
      "metadata": {
        "colab": {
          "base_uri": "https://localhost:8080/"
        },
        "id": "MKiV6uUV6xpx",
        "outputId": "8831c42d-c5cc-4d60-8753-faa0119aa19f"
      },
      "execution_count": null,
      "outputs": [
        {
          "output_type": "execute_result",
          "data": {
            "text/plain": [
              "0.476"
            ]
          },
          "metadata": {},
          "execution_count": 9
        }
      ]
    },
    {
      "cell_type": "markdown",
      "source": [
        "### 確率変数の変換"
      ],
      "metadata": {
        "id": "DvaEh8KTA73S"
      }
    },
    {
      "cell_type": "markdown",
      "source": [
        "とりうる値を置き換えて確率分布を作成"
      ],
      "metadata": {
        "id": "0g0UPRQ1BUIo"
      }
    },
    {
      "cell_type": "code",
      "source": [
        "y_set = np.array([10 * xx - 10 for xx in x_set])\n",
        "dict(zip(y_set, prob))"
      ],
      "metadata": {
        "colab": {
          "base_uri": "https://localhost:8080/"
        },
        "id": "ohlqhAHXA6P4",
        "outputId": "fcb78d76-3108-488a-ce3a-a1bf74ef4752"
      },
      "execution_count": null,
      "outputs": [
        {
          "output_type": "execute_result",
          "data": {
            "text/plain": [
              "{0: 0.048, 10: 0.095, 20: 0.143, 30: 0.190, 40: 0.238, 50: 0.286}"
            ]
          },
          "metadata": {},
          "execution_count": 10
        }
      ]
    },
    {
      "cell_type": "markdown",
      "source": [
        "### 期待値"
      ],
      "metadata": {
        "id": "xnG-QaDRD8Rj"
      }
    },
    {
      "cell_type": "markdown",
      "source": [
        "いかさまサイコロXの期待値"
      ],
      "metadata": {
        "id": "k_KcgZRZgO7D"
      }
    },
    {
      "cell_type": "code",
      "source": [
        "def E(X, g=lambda x: x):\n",
        "    x_set, f = X\n",
        "    return np.sum([g(xx) * f(xx) for xx in x_set])\n",
        "\n",
        "E(X)"
      ],
      "metadata": {
        "id": "N8yhrTJCD_U2",
        "colab": {
          "base_uri": "https://localhost:8080/"
        },
        "outputId": "5a06f5cc-4c53-4510-bbf7-d92a5584f5ca"
      },
      "execution_count": null,
      "outputs": [
        {
          "output_type": "execute_result",
          "data": {
            "text/plain": [
              "4.333"
            ]
          },
          "metadata": {},
          "execution_count": 11
        }
      ]
    },
    {
      "cell_type": "markdown",
      "source": [
        "確率変数Yの期待値"
      ],
      "metadata": {
        "id": "LEvdBCgDmepV"
      }
    },
    {
      "cell_type": "code",
      "source": [
        "E(X, g=lambda x: 10 * x - 10)"
      ],
      "metadata": {
        "colab": {
          "base_uri": "https://localhost:8080/"
        },
        "id": "nmCUj4Vbmd2o",
        "outputId": "cf02cde1-685d-4a7c-9e23-94f3778d39db"
      },
      "execution_count": null,
      "outputs": [
        {
          "output_type": "execute_result",
          "data": {
            "text/plain": [
              "33.333"
            ]
          },
          "metadata": {},
          "execution_count": 12
        }
      ]
    },
    {
      "cell_type": "markdown",
      "source": [
        "線形性の確認"
      ],
      "metadata": {
        "id": "17fD2lpfpE9o"
      }
    },
    {
      "cell_type": "code",
      "source": [
        "10 * E(X) - 10"
      ],
      "metadata": {
        "colab": {
          "base_uri": "https://localhost:8080/"
        },
        "id": "E7_xuDjdpGs1",
        "outputId": "eceb5855-95da-4f31-e8d6-4853c880cf87"
      },
      "execution_count": null,
      "outputs": [
        {
          "output_type": "execute_result",
          "data": {
            "text/plain": [
              "33.333"
            ]
          },
          "metadata": {},
          "execution_count": 13
        }
      ]
    },
    {
      "cell_type": "markdown",
      "source": [
        "### 分散"
      ],
      "metadata": {
        "id": "IpN8qmso0y_i"
      }
    },
    {
      "cell_type": "markdown",
      "source": [
        "いかさまさいころXの分散"
      ],
      "metadata": {
        "id": "OUdDd5PC00Pi"
      }
    },
    {
      "cell_type": "code",
      "source": [
        "def V(X, g=lambda x: x):\n",
        "    x_set, f = X\n",
        "    mean = E(X, g)\n",
        "    return np.sum([(g(xx) - mean) ** 2 * f(xx) for xx in x_set])\n",
        "\n",
        "V(X)"
      ],
      "metadata": {
        "colab": {
          "base_uri": "https://localhost:8080/"
        },
        "id": "8txGhjTv0_Dv",
        "outputId": "9e684f41-0d87-48ed-a480-8248072c858f"
      },
      "execution_count": null,
      "outputs": [
        {
          "output_type": "execute_result",
          "data": {
            "text/plain": [
              "2.222"
            ]
          },
          "metadata": {},
          "execution_count": 18
        }
      ]
    },
    {
      "cell_type": "markdown",
      "source": [
        "確率変数Yの分散"
      ],
      "metadata": {
        "id": "o4X4DYYq4jf_"
      }
    },
    {
      "cell_type": "code",
      "source": [
        "V(X, g=lambda x: 10 * x - 10)"
      ],
      "metadata": {
        "colab": {
          "base_uri": "https://localhost:8080/"
        },
        "id": "HAw6to714lC9",
        "outputId": "cf1ff12d-cd4e-4c43-ff3d-813d44e98021"
      },
      "execution_count": null,
      "outputs": [
        {
          "output_type": "execute_result",
          "data": {
            "text/plain": [
              "222.222"
            ]
          },
          "metadata": {},
          "execution_count": 19
        }
      ]
    },
    {
      "cell_type": "markdown",
      "source": [
        "分散の公式"
      ],
      "metadata": {
        "id": "QELr72J35P7r"
      }
    },
    {
      "cell_type": "code",
      "source": [
        "10 ** 2 * V(X)"
      ],
      "metadata": {
        "colab": {
          "base_uri": "https://localhost:8080/"
        },
        "id": "moDDUSQr5RFG",
        "outputId": "9bad7eee-6655-4465-daa9-2302ec9907f3"
      },
      "execution_count": null,
      "outputs": [
        {
          "output_type": "execute_result",
          "data": {
            "text/plain": [
              "222.222"
            ]
          },
          "metadata": {},
          "execution_count": 20
        }
      ]
    },
    {
      "cell_type": "markdown",
      "source": [
        "## 2次元"
      ],
      "metadata": {
        "id": "V6vrLuw-lZ1n"
      }
    },
    {
      "cell_type": "markdown",
      "source": [
        "### 同時確率分布"
      ],
      "metadata": {
        "id": "haxAxXmLllrI"
      }
    },
    {
      "cell_type": "markdown",
      "source": [
        "とりうる値を作成"
      ],
      "metadata": {
        "id": "syU6EQxDCH-M"
      }
    },
    {
      "cell_type": "code",
      "source": [
        "x_set = np.arange(2, 13)\n",
        "y_set = np.arange(1, 7)\n",
        "\n",
        "print(f'Xのとりうる値: {x_set}')\n",
        "print(f'Yのとりうる値: {y_set}')"
      ],
      "metadata": {
        "colab": {
          "base_uri": "https://localhost:8080/"
        },
        "id": "XyGUEkb5loQG",
        "outputId": "1e62e4a0-7e13-4841-e74a-e72d9bd5b30e"
      },
      "execution_count": 3,
      "outputs": [
        {
          "output_type": "stream",
          "name": "stdout",
          "text": [
            "Xのとりうる値: [ 2  3  4  5  6  7  8  9 10 11 12]\n",
            "Yのとりうる値: [1 2 3 4 5 6]\n"
          ]
        }
      ]
    },
    {
      "cell_type": "markdown",
      "source": [
        "確率分布を表示"
      ],
      "metadata": {
        "id": "Iex10D8cVTqq"
      }
    },
    {
      "cell_type": "code",
      "source": [
        "def f_XY(x, y):\n",
        "    a, b = y, x - y\n",
        "    if 1 <= a <= 6 and 1 <= b <= 6:\n",
        "        return  a * b / (21 * 21)\n",
        "    else:\n",
        "        return 0\n",
        "\n",
        "prob = np.array([[f_XY(i, j) for j in y_set] for i in x_set])\n",
        "prob_df = pd.DataFrame(prob, index=pd.Index(x_set, name='X'), columns=pd.Index(y_set, name='Y'))\n",
        "\n",
        "plt.figure(figsize=(8, 7))\n",
        "sns.heatmap(prob_df, annot=True, fmt='1.3f', cmap='Reds')\n",
        "plt.show()"
      ],
      "metadata": {
        "colab": {
          "base_uri": "https://localhost:8080/",
          "height": 440
        },
        "id": "j-MWOJAXQMcG",
        "outputId": "e7862d72-d2f5-4f6c-eadb-e088e092df57"
      },
      "execution_count": 4,
      "outputs": [
        {
          "output_type": "display_data",
          "data": {
            "text/plain": [
              "<Figure size 576x504 with 2 Axes>"
            ],
            "image/png": "[encoded data removed]"
          },
          "metadata": {
            "needs_background": "light"
          }
        }
      ]
    },
    {
      "cell_type": "markdown",
      "source": [
        "確率の性質"
      ],
      "metadata": {
        "id": "snXy4l2dey1P"
      }
    },
    {
      "cell_type": "code",
      "source": [
        "print(f'すべて0以上: {np.all(prob >= 0)}')\n",
        "print(f'総和: {np.sum(prob):.3f}')"
      ],
      "metadata": {
        "colab": {
          "base_uri": "https://localhost:8080/"
        },
        "id": "uvO9dOA_e0jH",
        "outputId": "f5a409d4-168c-4efa-e739-cddac8a633ed"
      },
      "execution_count": 5,
      "outputs": [
        {
          "output_type": "stream",
          "name": "stdout",
          "text": [
            "すべて0以上: True\n",
            "総和: 1.000\n"
          ]
        }
      ]
    },
    {
      "cell_type": "markdown",
      "source": [
        "確率変数XY"
      ],
      "metadata": {
        "id": "qheMuhdvcF9g"
      }
    },
    {
      "cell_type": "code",
      "source": [
        "XY = [x_set, y_set, f_XY]"
      ],
      "metadata": {
        "id": "xIOJpJ3__xeG"
      },
      "execution_count": 6,
      "outputs": []
    },
    {
      "cell_type": "markdown",
      "source": [
        "### 周辺確率分布"
      ],
      "metadata": {
        "id": "tVFo6CpRyZVd"
      }
    },
    {
      "cell_type": "markdown",
      "source": [
        "周辺分布Xの抽出"
      ],
      "metadata": {
        "id": "4OEGhrrpybC2"
      }
    },
    {
      "cell_type": "code",
      "source": [
        "prob_df.sum(axis=1).to_frame().T"
      ],
      "metadata": {
        "colab": {
          "base_uri": "https://localhost:8080/",
          "height": 81
        },
        "id": "tDyuC6RWyc0g",
        "outputId": "37793f36-ceb6-4fe3-8daa-aea54154f2e6"
      },
      "execution_count": 7,
      "outputs": [
        {
          "output_type": "execute_result",
          "data": {
            "text/plain": [
              "X     2      3      4      5      6      7      8      9      10     11     12\n",
              "0  0.002  0.009  0.023  0.045  0.079  0.127  0.159  0.172  0.166  0.136  0.082"
            ],
            "text/html": [
              "\n",
              "  <div id=\"df-e7a13eb6-fa94-4855-a6d1-a8c0eef2b9b6\">\n",
              "    <div class=\"colab-df-container\">\n",
              "      <div>\n",
              "<style scoped>\n",
              "    .dataframe tbody tr th:only-of-type {\n",
              "        vertical-align: middle;\n",
              "    }\n",
              "\n",
              "    .dataframe tbody tr th {\n",
              "        vertical-align: top;\n",
              "    }\n",
              "\n",
              "    .dataframe thead th {\n",
              "        text-align: right;\n",
              "    }\n",
              "</style>\n",
              "<table border=\"1\" class=\"dataframe\">\n",
              "  <thead>\n",
              "    <tr style=\"text-align: right;\">\n",
              "      <th>X</th>\n",
              "      <th>2</th>\n",
              "      <th>3</th>\n",
              "      <th>4</th>\n",
              "      <th>5</th>\n",
              "      <th>6</th>\n",
              "      <th>7</th>\n",
              "      <th>8</th>\n",
              "      <th>9</th>\n",
              "      <th>10</th>\n",
              "      <th>11</th>\n",
              "      <th>12</th>\n",
              "    </tr>\n",
              "  </thead>\n",
              "  <tbody>\n",
              "    <tr>\n",
              "      <th>0</th>\n",
              "      <td>0.002</td>\n",
              "      <td>0.009</td>\n",
              "      <td>0.023</td>\n",
              "      <td>0.045</td>\n",
              "      <td>0.079</td>\n",
              "      <td>0.127</td>\n",
              "      <td>0.159</td>\n",
              "      <td>0.172</td>\n",
              "      <td>0.166</td>\n",
              "      <td>0.136</td>\n",
              "      <td>0.082</td>\n",
              "    </tr>\n",
              "  </tbody>\n",
              "</table>\n",
              "</div>\n",
              "      <button class=\"colab-df-convert\" onclick=\"convertToInteractive('df-e7a13eb6-fa94-4855-a6d1-a8c0eef2b9b6')\"\n",
              "              title=\"Convert this dataframe to an interactive table.\"\n",
              "              style=\"display:none;\">\n",
              "        \n",
              "  <svg xmlns=\"http://www.w3.org/2000/svg\" height=\"24px\"viewBox=\"0 0 24 24\"\n",
              "       width=\"24px\">\n",
              "    <path d=\"M0 0h24v24H0V0z\" fill=\"none\"/>\n",
              "    <path d=\"M18.56 5.44l.94 2.06.94-2.06 2.06-.94-2.06-.94-.94-2.06-.94 2.06-2.06.94zm-11 1L8.5 8.5l.94-2.06 2.06-.94-2.06-.94L8.5 2.5l-.94 2.06-2.06.94zm10 10l.94 2.06.94-2.06 2.06-.94-2.06-.94-.94-2.06-.94 2.06-2.06.94z\"/><path d=\"M17.41 7.96l-1.37-1.37c-.4-.4-.92-.59-1.43-.59-.52 0-1.04.2-1.43.59L10.3 9.45l-7.72 7.72c-.78.78-.78 2.05 0 2.83L4 21.41c.39.39.9.59 1.41.59.51 0 1.02-.2 1.41-.59l7.78-7.78 2.81-2.81c.8-.78.8-2.07 0-2.86zM5.41 20L4 18.59l7.72-7.72 1.47 1.35L5.41 20z\"/>\n",
              "  </svg>\n",
              "      </button>\n",
              "      \n",
              "  <style>\n",
              "    .colab-df-container {\n",
              "      display:flex;\n",
              "      flex-wrap:wrap;\n",
              "      gap: 12px;\n",
              "    }\n",
              "\n",
              "    .colab-df-convert {\n",
              "      background-color: #E8F0FE;\n",
              "      border: none;\n",
              "      border-radius: 50%;\n",
              "      cursor: pointer;\n",
              "      display: none;\n",
              "      fill: #1967D2;\n",
              "      height: 32px;\n",
              "      padding: 0 0 0 0;\n",
              "      width: 32px;\n",
              "    }\n",
              "\n",
              "    .colab-df-convert:hover {\n",
              "      background-color: #E2EBFA;\n",
              "      box-shadow: 0px 1px 2px rgba(60, 64, 67, 0.3), 0px 1px 3px 1px rgba(60, 64, 67, 0.15);\n",
              "      fill: #174EA6;\n",
              "    }\n",
              "\n",
              "    [theme=dark] .colab-df-convert {\n",
              "      background-color: #3B4455;\n",
              "      fill: #D2E3FC;\n",
              "    }\n",
              "\n",
              "    [theme=dark] .colab-df-convert:hover {\n",
              "      background-color: #434B5C;\n",
              "      box-shadow: 0px 1px 3px 1px rgba(0, 0, 0, 0.15);\n",
              "      filter: drop-shadow(0px 1px 2px rgba(0, 0, 0, 0.3));\n",
              "      fill: #FFFFFF;\n",
              "    }\n",
              "  </style>\n",
              "\n",
              "      <script>\n",
              "        const buttonEl =\n",
              "          document.querySelector('#df-e7a13eb6-fa94-4855-a6d1-a8c0eef2b9b6 button.colab-df-convert');\n",
              "        buttonEl.style.display =\n",
              "          google.colab.kernel.accessAllowed ? 'block' : 'none';\n",
              "\n",
              "        async function convertToInteractive(key) {\n",
              "          const element = document.querySelector('#df-e7a13eb6-fa94-4855-a6d1-a8c0eef2b9b6');\n",
              "          const dataTable =\n",
              "            await google.colab.kernel.invokeFunction('convertToInteractive',\n",
              "                                                     [key], {});\n",
              "          if (!dataTable) return;\n",
              "\n",
              "          const docLinkHtml = 'Like what you see? Visit the ' +\n",
              "            '<a target=\"_blank\" href=https://colab.research.google.com/notebooks/data_table.ipynb>data table notebook</a>'\n",
              "            + ' to learn more about interactive tables.';\n",
              "          element.innerHTML = '';\n",
              "          dataTable['output_type'] = 'display_data';\n",
              "          await google.colab.output.renderOutput(dataTable, element);\n",
              "          const docLink = document.createElement('div');\n",
              "          docLink.innerHTML = docLinkHtml;\n",
              "          element.appendChild(docLink);\n",
              "        }\n",
              "      </script>\n",
              "    </div>\n",
              "  </div>\n",
              "  "
            ]
          },
          "metadata": {},
          "execution_count": 7
        }
      ]
    },
    {
      "cell_type": "markdown",
      "source": [
        "周辺分布Yの抽出"
      ],
      "metadata": {
        "id": "Gna7KToezqQx"
      }
    },
    {
      "cell_type": "code",
      "source": [
        "prob_df.sum(axis=0).to_frame().T"
      ],
      "metadata": {
        "colab": {
          "base_uri": "https://localhost:8080/",
          "height": 81
        },
        "id": "MjIFwg0-zB2n",
        "outputId": "8952a9d4-e22a-46b3-90b9-66df0b54d8fa"
      },
      "execution_count": 8,
      "outputs": [
        {
          "output_type": "execute_result",
          "data": {
            "text/plain": [
              "Y      1      2      3     4      5      6\n",
              "0  0.048  0.095  0.143  0.19  0.238  0.286"
            ],
            "text/html": [
              "\n",
              "  <div id=\"df-118df571-f873-4ba7-93da-9d1f5558bd2a\">\n",
              "    <div class=\"colab-df-container\">\n",
              "      <div>\n",
              "<style scoped>\n",
              "    .dataframe tbody tr th:only-of-type {\n",
              "        vertical-align: middle;\n",
              "    }\n",
              "\n",
              "    .dataframe tbody tr th {\n",
              "        vertical-align: top;\n",
              "    }\n",
              "\n",
              "    .dataframe thead th {\n",
              "        text-align: right;\n",
              "    }\n",
              "</style>\n",
              "<table border=\"1\" class=\"dataframe\">\n",
              "  <thead>\n",
              "    <tr style=\"text-align: right;\">\n",
              "      <th>Y</th>\n",
              "      <th>1</th>\n",
              "      <th>2</th>\n",
              "      <th>3</th>\n",
              "      <th>4</th>\n",
              "      <th>5</th>\n",
              "      <th>6</th>\n",
              "    </tr>\n",
              "  </thead>\n",
              "  <tbody>\n",
              "    <tr>\n",
              "      <th>0</th>\n",
              "      <td>0.048</td>\n",
              "      <td>0.095</td>\n",
              "      <td>0.143</td>\n",
              "      <td>0.19</td>\n",
              "      <td>0.238</td>\n",
              "      <td>0.286</td>\n",
              "    </tr>\n",
              "  </tbody>\n",
              "</table>\n",
              "</div>\n",
              "      <button class=\"colab-df-convert\" onclick=\"convertToInteractive('df-118df571-f873-4ba7-93da-9d1f5558bd2a')\"\n",
              "              title=\"Convert this dataframe to an interactive table.\"\n",
              "              style=\"display:none;\">\n",
              "        \n",
              "  <svg xmlns=\"http://www.w3.org/2000/svg\" height=\"24px\"viewBox=\"0 0 24 24\"\n",
              "       width=\"24px\">\n",
              "    <path d=\"M0 0h24v24H0V0z\" fill=\"none\"/>\n",
              "    <path d=\"M18.56 5.44l.94 2.06.94-2.06 2.06-.94-2.06-.94-.94-2.06-.94 2.06-2.06.94zm-11 1L8.5 8.5l.94-2.06 2.06-.94-2.06-.94L8.5 2.5l-.94 2.06-2.06.94zm10 10l.94 2.06.94-2.06 2.06-.94-2.06-.94-.94-2.06-.94 2.06-2.06.94z\"/><path d=\"M17.41 7.96l-1.37-1.37c-.4-.4-.92-.59-1.43-.59-.52 0-1.04.2-1.43.59L10.3 9.45l-7.72 7.72c-.78.78-.78 2.05 0 2.83L4 21.41c.39.39.9.59 1.41.59.51 0 1.02-.2 1.41-.59l7.78-7.78 2.81-2.81c.8-.78.8-2.07 0-2.86zM5.41 20L4 18.59l7.72-7.72 1.47 1.35L5.41 20z\"/>\n",
              "  </svg>\n",
              "      </button>\n",
              "      \n",
              "  <style>\n",
              "    .colab-df-container {\n",
              "      display:flex;\n",
              "      flex-wrap:wrap;\n",
              "      gap: 12px;\n",
              "    }\n",
              "\n",
              "    .colab-df-convert {\n",
              "      background-color: #E8F0FE;\n",
              "      border: none;\n",
              "      border-radius: 50%;\n",
              "      cursor: pointer;\n",
              "      display: none;\n",
              "      fill: #1967D2;\n",
              "      height: 32px;\n",
              "      padding: 0 0 0 0;\n",
              "      width: 32px;\n",
              "    }\n",
              "\n",
              "    .colab-df-convert:hover {\n",
              "      background-color: #E2EBFA;\n",
              "      box-shadow: 0px 1px 2px rgba(60, 64, 67, 0.3), 0px 1px 3px 1px rgba(60, 64, 67, 0.15);\n",
              "      fill: #174EA6;\n",
              "    }\n",
              "\n",
              "    [theme=dark] .colab-df-convert {\n",
              "      background-color: #3B4455;\n",
              "      fill: #D2E3FC;\n",
              "    }\n",
              "\n",
              "    [theme=dark] .colab-df-convert:hover {\n",
              "      background-color: #434B5C;\n",
              "      box-shadow: 0px 1px 3px 1px rgba(0, 0, 0, 0.15);\n",
              "      filter: drop-shadow(0px 1px 2px rgba(0, 0, 0, 0.3));\n",
              "      fill: #FFFFFF;\n",
              "    }\n",
              "  </style>\n",
              "\n",
              "      <script>\n",
              "        const buttonEl =\n",
              "          document.querySelector('#df-118df571-f873-4ba7-93da-9d1f5558bd2a button.colab-df-convert');\n",
              "        buttonEl.style.display =\n",
              "          google.colab.kernel.accessAllowed ? 'block' : 'none';\n",
              "\n",
              "        async function convertToInteractive(key) {\n",
              "          const element = document.querySelector('#df-118df571-f873-4ba7-93da-9d1f5558bd2a');\n",
              "          const dataTable =\n",
              "            await google.colab.kernel.invokeFunction('convertToInteractive',\n",
              "                                                     [key], {});\n",
              "          if (!dataTable) return;\n",
              "\n",
              "          const docLinkHtml = 'Like what you see? Visit the ' +\n",
              "            '<a target=\"_blank\" href=https://colab.research.google.com/notebooks/data_table.ipynb>data table notebook</a>'\n",
              "            + ' to learn more about interactive tables.';\n",
              "          element.innerHTML = '';\n",
              "          dataTable['output_type'] = 'display_data';\n",
              "          await google.colab.output.renderOutput(dataTable, element);\n",
              "          const docLink = document.createElement('div');\n",
              "          docLink.innerHTML = docLinkHtml;\n",
              "          element.appendChild(docLink);\n",
              "        }\n",
              "      </script>\n",
              "    </div>\n",
              "  </div>\n",
              "  "
            ]
          },
          "metadata": {},
          "execution_count": 8
        }
      ]
    },
    {
      "cell_type": "markdown",
      "source": [
        "それぞれの周辺分布に従う確率変数X，Y"
      ],
      "metadata": {
        "id": "1WojKmNT1lCb"
      }
    },
    {
      "cell_type": "code",
      "source": [
        "def f_X(x):\n",
        "    return np.sum([f_XY(x, y) for y in y_set])\n",
        "\n",
        "def f_Y(y):\n",
        "    return np.sum([f_XY(x, y) for x in x_set])\n",
        "\n",
        "X = [x_set, f_X]\n",
        "Y = [y_set, f_Y]"
      ],
      "metadata": {
        "id": "KzkPvceK1j-l"
      },
      "execution_count": 9,
      "outputs": []
    },
    {
      "cell_type": "markdown",
      "source": [
        "周辺分布の表示"
      ],
      "metadata": {
        "id": "dvIyBeGV3QXA"
      }
    },
    {
      "cell_type": "code",
      "source": [
        "prob_x = np.array([f_X(k) for k in x_set])\n",
        "prob_y = np.array([f_Y(k) for k in y_set])\n",
        "\n",
        "fig = plt.figure(figsize=(16, 6))\n",
        "ax1 = fig.add_subplot(121)\n",
        "ax2 = fig.add_subplot(122)\n",
        "\n",
        "ax1.bar(x_set, prob_x)\n",
        "ax1.set_title('Xの周辺分布')\n",
        "ax1.set_xlabel('Xのとりうる値')\n",
        "ax1.set_ylabel('確率')\n",
        "ax1.grid()\n",
        "\n",
        "ax2.bar(y_set, prob_y)\n",
        "ax2.set_title('Yの周辺分布')\n",
        "ax2.set_xlabel('Yのとりうる値')\n",
        "ax2.set_ylabel('確率')\n",
        "ax2.grid()\n",
        "\n",
        "plt.show()"
      ],
      "metadata": {
        "colab": {
          "base_uri": "https://localhost:8080/",
          "height": 402
        },
        "id": "2Yej7nNL3RCd",
        "outputId": "f34489f0-d3bf-4d27-a8da-5787d4085c80"
      },
      "execution_count": 10,
      "outputs": [
        {
          "output_type": "display_data",
          "data": {
            "text/plain": [
              "<Figure size 1152x432 with 2 Axes>"
            ],
            "image/png": "[encoded data removed]"
          },
          "metadata": {
            "needs_background": "light"
          }
        }
      ]
    },
    {
      "cell_type": "markdown",
      "source": [
        "### 期待値"
      ],
      "metadata": {
        "id": "Q1LG7PcN5_Q9"
      }
    },
    {
      "cell_type": "markdown",
      "source": [
        "X，Yの期待値"
      ],
      "metadata": {
        "id": "hh5G2Y1x-P8T"
      }
    },
    {
      "cell_type": "code",
      "source": [
        "def E2(XY, g):\n",
        "    x_set, y_set, f_XY = XY\n",
        "    return np.sum([[g(i, j) * f_XY(i, j) for i in x_set] for j in y_set])\n",
        "\n",
        "mean_X = E2(XY, lambda x, y: x)\n",
        "mean_Y = E2(XY, lambda x, y: y)\n",
        "mean_X, mean_Y"
      ],
      "metadata": {
        "colab": {
          "base_uri": "https://localhost:8080/"
        },
        "id": "pzIOzVr06QAU",
        "outputId": "0848dd5b-bc65-4b39-9b30-0b6818eba782"
      },
      "execution_count": 28,
      "outputs": [
        {
          "output_type": "execute_result",
          "data": {
            "text/plain": [
              "(8.666666666666666, 4.333333333333333)"
            ]
          },
          "metadata": {},
          "execution_count": 28
        }
      ]
    },
    {
      "cell_type": "markdown",
      "source": [
        "期待値の合計"
      ],
      "metadata": {
        "id": "CJPktTEG_jPJ"
      }
    },
    {
      "cell_type": "code",
      "source": [
        "E2(XY, lambda x, y: x + y)"
      ],
      "metadata": {
        "colab": {
          "base_uri": "https://localhost:8080/"
        },
        "id": "2knfI7WW_iGx",
        "outputId": "92aec8a2-cc0e-4690-9155-97257fb89faf"
      },
      "execution_count": 12,
      "outputs": [
        {
          "output_type": "execute_result",
          "data": {
            "text/plain": [
              "13.0"
            ]
          },
          "metadata": {},
          "execution_count": 12
        }
      ]
    },
    {
      "cell_type": "markdown",
      "source": [
        "期待値の線形性"
      ],
      "metadata": {
        "id": "J01aSgyl_tBf"
      }
    },
    {
      "cell_type": "code",
      "source": [
        "mean_X + mean_Y"
      ],
      "metadata": {
        "colab": {
          "base_uri": "https://localhost:8080/"
        },
        "id": "sXdsXiVs8kiV",
        "outputId": "210fcbe8-e39d-49b4-a8de-cef1a7bff960"
      },
      "execution_count": 15,
      "outputs": [
        {
          "output_type": "execute_result",
          "data": {
            "text/plain": [
              "13.0"
            ]
          },
          "metadata": {},
          "execution_count": 15
        }
      ]
    },
    {
      "cell_type": "markdown",
      "source": [
        "### 分散\n",
        "\n",
        "X，Yの分散"
      ],
      "metadata": {
        "id": "awzaJPHt74-_"
      }
    },
    {
      "cell_type": "code",
      "source": [
        "def V2(XY, g):\n",
        "    x_set, y_set, f_XY = XY\n",
        "    mean = E2(XY, g)\n",
        "    return np.sum([[(g(i, j) - mean) ** 2 * f_XY(i, j) for i in x_set] for j in y_set])\n",
        "\n",
        "var_X = V2(XY, lambda x, y: x)\n",
        "var_Y = V2(XY, lambda x, y: y)\n",
        "var_X, var_Y"
      ],
      "metadata": {
        "colab": {
          "base_uri": "https://localhost:8080/"
        },
        "id": "X1Va4b0o78K-",
        "outputId": "73ca6317-beff-4713-da95-2f8d857ce8e1"
      },
      "execution_count": 16,
      "outputs": [
        {
          "output_type": "execute_result",
          "data": {
            "text/plain": [
              "(4.444444444444445, 2.2222222222222223)"
            ]
          },
          "metadata": {},
          "execution_count": 16
        }
      ]
    },
    {
      "cell_type": "markdown",
      "source": [
        "共分散"
      ],
      "metadata": {
        "id": "wj-u3Tgr-3D6"
      }
    },
    {
      "cell_type": "code",
      "source": [
        "def cov(XY):\n",
        "    x_set, y_set, f_XY = XY\n",
        "    mean_X = E2(XY, lambda x, y: x)\n",
        "    mean_Y = E2(XY, lambda x, y: y)\n",
        "    return np.sum([[(i - mean_X) * (j - mean_Y) * f_XY(i, j) for i in x_set] for j in y_set])\n",
        "\n",
        "cov_XY = cov(XY)\n",
        "cov_XY"
      ],
      "metadata": {
        "colab": {
          "base_uri": "https://localhost:8080/"
        },
        "id": "U0IjcvKO-4Q3",
        "outputId": "cc524ea8-977d-4a68-ea0b-8f6b59ce1f8e"
      },
      "execution_count": 21,
      "outputs": [
        {
          "output_type": "execute_result",
          "data": {
            "text/plain": [
              "2.222222222222222"
            ]
          },
          "metadata": {},
          "execution_count": 21
        }
      ]
    },
    {
      "cell_type": "markdown",
      "source": [
        "### 相関係数"
      ],
      "metadata": {
        "id": "5-PE6lX9CNMy"
      }
    },
    {
      "cell_type": "code",
      "source": [
        "def corr(XY):\n",
        "    cov_xy = cov(XY)\n",
        "    var_x = V2(XY, lambda x, y: x)\n",
        "    var_y = V2(XY, lambda x, y: y)\n",
        "\n",
        "    return cov_xy / np.sqrt(var_x * var_y)\n",
        "\n",
        "corr(XY)"
      ],
      "metadata": {
        "colab": {
          "base_uri": "https://localhost:8080/"
        },
        "id": "OcWPv1IrCMzR",
        "outputId": "3fac39cb-8a3f-4f0c-91f7-103c199f479b"
      },
      "execution_count": 23,
      "outputs": [
        {
          "output_type": "execute_result",
          "data": {
            "text/plain": [
              "0.7071067811865474"
            ]
          },
          "metadata": {},
          "execution_count": 23
        }
      ]
    }
  ]
}