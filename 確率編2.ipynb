{
  "nbformat": 4,
  "nbformat_minor": 0,
  "metadata": {
    "colab": {
      "provenance": [],
      "collapsed_sections": [
        "l2K_ot3KDPe8",
        "Q1Ds4fJYys0z",
        "ZirTXlIA4xri",
        "wPLkC2sG4tiJ",
        "3aAwIrTVa5gD",
        "aJamBXazbAYc",
        "mrOu-B-A6-bB",
        "9d1wpYBsKtbC",
        "zMlj9um2kMS8",
        "UKJYduY7s-Kz",
        "nPhBT2dcyG5D",
        "EMwIOO34Xu7Y",
        "gUz71XM-rbgg",
        "FsiGnAJ68YgZ",
        "v43144iNQ7Jv",
        "WvSN48ssQ9dl"
      ]
    },
    "kernelspec": {
      "name": "python3",
      "display_name": "Python 3"
    },
    "language_info": {
      "name": "python"
    }
  },
  "cells": [
    {
      "cell_type": "markdown",
      "source": [
        "# サンプルコード"
      ],
      "metadata": {
        "id": "4sda7Pp6uC6F"
      }
    },
    {
      "cell_type": "markdown",
      "source": [
        "## 準備まとめ"
      ],
      "metadata": {
        "id": "QKIbQwWsEmZf"
      }
    },
    {
      "cell_type": "markdown",
      "source": [
        "ダウンロードとインストール"
      ],
      "metadata": {
        "id": "GCQXOcbDuPfT"
      }
    },
    {
      "cell_type": "code",
      "source": [
        "!git clone https://github.com/ghmagazine/python_stat_sample.git\n",
        "!mv ./python_stat_sample/data ./data\n",
        "!pip install japanize-matplotlib"
      ],
      "metadata": {
        "colab": {
          "base_uri": "https://localhost:8080/"
        },
        "id": "PznSvWVQuCVr",
        "outputId": "58e1a5da-2aed-4873-916e-7f22131b0aa4"
      },
      "execution_count": 1,
      "outputs": [
        {
          "output_type": "stream",
          "name": "stdout",
          "text": [
            "Cloning into 'python_stat_sample'...\n",
            "remote: Enumerating objects: 130, done.\u001b[K\n",
            "remote: Total 130 (delta 0), reused 0 (delta 0), pack-reused 130\u001b[K\n",
            "Receiving objects: 100% (130/130), 8.22 MiB | 37.10 MiB/s, done.\n",
            "Resolving deltas: 100% (59/59), done.\n",
            "Looking in indexes: https://pypi.org/simple, https://us-python.pkg.dev/colab-wheels/public/simple/\n",
            "Collecting japanize-matplotlib\n",
            "  Downloading japanize-matplotlib-1.1.3.tar.gz (4.1 MB)\n",
            "\u001b[K     |████████████████████████████████| 4.1 MB 27.3 MB/s \n",
            "\u001b[?25hRequirement already satisfied: matplotlib in /usr/local/lib/python3.7/dist-packages (from japanize-matplotlib) (3.2.2)\n",
            "Requirement already satisfied: cycler>=0.10 in /usr/local/lib/python3.7/dist-packages (from matplotlib->japanize-matplotlib) (0.11.0)\n",
            "Requirement already satisfied: pyparsing!=2.0.4,!=2.1.2,!=2.1.6,>=2.0.1 in /usr/local/lib/python3.7/dist-packages (from matplotlib->japanize-matplotlib) (3.0.9)\n",
            "Requirement already satisfied: numpy>=1.11 in /usr/local/lib/python3.7/dist-packages (from matplotlib->japanize-matplotlib) (1.21.6)\n",
            "Requirement already satisfied: kiwisolver>=1.0.1 in /usr/local/lib/python3.7/dist-packages (from matplotlib->japanize-matplotlib) (1.4.4)\n",
            "Requirement already satisfied: python-dateutil>=2.1 in /usr/local/lib/python3.7/dist-packages (from matplotlib->japanize-matplotlib) (2.8.2)\n",
            "Requirement already satisfied: typing-extensions in /usr/local/lib/python3.7/dist-packages (from kiwisolver>=1.0.1->matplotlib->japanize-matplotlib) (4.1.1)\n",
            "Requirement already satisfied: six>=1.5 in /usr/local/lib/python3.7/dist-packages (from python-dateutil>=2.1->matplotlib->japanize-matplotlib) (1.15.0)\n",
            "Building wheels for collected packages: japanize-matplotlib\n",
            "  Building wheel for japanize-matplotlib (setup.py) ... \u001b[?25l\u001b[?25hdone\n",
            "  Created wheel for japanize-matplotlib: filename=japanize_matplotlib-1.1.3-py3-none-any.whl size=4120275 sha256=d8bce6992ab79ac71e4a9b056dd439aff030426992b079a5455d4c59725e5f5e\n",
            "  Stored in directory: /root/.cache/pip/wheels/83/97/6b/e9e0cde099cc40f972b8dd23367308f7705ae06cd6d4714658\n",
            "Successfully built japanize-matplotlib\n",
            "Installing collected packages: japanize-matplotlib\n",
            "Successfully installed japanize-matplotlib-1.1.3\n"
          ]
        }
      ]
    },
    {
      "cell_type": "markdown",
      "source": [
        "インポートと設定"
      ],
      "metadata": {
        "id": "WOQaoYyUuTRg"
      }
    },
    {
      "cell_type": "code",
      "source": [
        "import numpy as np\n",
        "import pandas as pd\n",
        "from scipy import stats\n",
        "from scipy.special import comb\n",
        "from scipy.special import factorial\n",
        "from scipy import integrate\n",
        "from scipy import optimize\n",
        "from functools import partial\n",
        "\n",
        "import matplotlib.pyplot as plt\n",
        "import japanize_matplotlib\n",
        "import seaborn as sns\n",
        "\n",
        "import warnings\n",
        "warnings.filterwarnings('ignore', category=integrate.IntegrationWarning)\n",
        "\n",
        "%precision 3\n",
        "pd.set_option('precision', 3)\n",
        "pd.options.display.float_format = '{:.3f}'.format"
      ],
      "metadata": {
        "id": "N-mcESeYt4gb"
      },
      "execution_count": 2,
      "outputs": []
    },
    {
      "cell_type": "markdown",
      "source": [
        "## おさらい"
      ],
      "metadata": {
        "id": "l2K_ot3KDPe8"
      }
    },
    {
      "cell_type": "markdown",
      "source": [
        "サイコロの確率関数と確率分布"
      ],
      "metadata": {
        "id": "pAzOrOEKJi6_"
      }
    },
    {
      "cell_type": "code",
      "source": [
        "def dice_prob_func(x):\n",
        "    return 1 / 6\n",
        "\n",
        "dice_x_set = [1, 2, 3, 4, 5, 6]\n",
        "dice_prob = np.array([dice_prob_func(x) for x in dice_x_set])\n",
        "\n",
        "plt.bar(dice_x_set, dice_prob)\n",
        "plt.ylim(0.0, 1.0)\n",
        "plt.xlabel('とりうる値')\n",
        "plt.ylabel('確率')\n",
        "plt.grid(True)\n",
        "plt.show()"
      ],
      "metadata": {
        "id": "H_xwa9FxJhUF",
        "colab": {
          "base_uri": "https://localhost:8080/",
          "height": 281
        },
        "outputId": "8a98f4ce-9f8d-44de-f444-6c5451d4cffc"
      },
      "execution_count": null,
      "outputs": [
        {
          "output_type": "display_data",
          "data": {
            "text/plain": [
              "<Figure size 432x288 with 1 Axes>"
            ],
            "image/png": "[encoded data removed]"
          },
          "metadata": {
            "needs_background": "light"
          }
        }
      ]
    },
    {
      "cell_type": "markdown",
      "source": [
        "度数分布による確率分布の推定"
      ],
      "metadata": {
        "id": "vrSArToNabDN"
      }
    },
    {
      "cell_type": "code",
      "source": [
        "num_trial = 100\n",
        "dice_sample = np.random.choice(dice_x_set, num_trial)\n",
        "\n",
        "plt.hist(\n",
        "    dice_sample, bins=len(dice_x_set), range=(1, 7), density=True,\n",
        "    label=f'{num_trial}回試行による相対度数分布')\n",
        "plt.hlines(\n",
        "    dice_prob, np.arange(1, 7), np.arange(2, 8),\n",
        "    color='red', lw=3, label='実際の確率分布')\n",
        "\n",
        "plt.xticks(np.linspace(1.5, 6.5, 6), labels=np.arange(1, 7))\n",
        "plt.ylim(0.0, 1.0)\n",
        "plt.xlabel('とりうる値')\n",
        "plt.ylabel('相対度数')\n",
        "plt.legend()\n",
        "plt.grid(True)\n",
        "plt.show()"
      ],
      "metadata": {
        "colab": {
          "base_uri": "https://localhost:8080/",
          "height": 281
        },
        "id": "D3UC72glaaNC",
        "outputId": "fcdc9f8f-9f49-4b77-e6bc-b1ce6325937b"
      },
      "execution_count": null,
      "outputs": [
        {
          "output_type": "display_data",
          "data": {
            "text/plain": [
              "<Figure size 432x288 with 1 Axes>"
            ],
            "image/png": "[encoded data removed]"
          },
          "metadata": {
            "needs_background": "light"
          }
        }
      ]
    },
    {
      "cell_type": "markdown",
      "source": [
        "## 代表的な離散型確率分布"
      ],
      "metadata": {
        "id": "Q1Ds4fJYys0z"
      }
    },
    {
      "cell_type": "markdown",
      "source": [
        "### 準備"
      ],
      "metadata": {
        "id": "ZirTXlIA4xri"
      }
    },
    {
      "cell_type": "markdown",
      "source": [
        "期待値と分散の関数"
      ],
      "metadata": {
        "id": "o2R0Hu-U8NIE"
      }
    },
    {
      "cell_type": "code",
      "source": [
        "def E(X, g=lambda x: x):\n",
        "    x_set, f = X\n",
        "\n",
        "    return np.sum([g(k) * f(k) for k in x_set])\n",
        "\n",
        "def V(X, g=lambda x: x):\n",
        "    x_set, f = X\n",
        "    \n",
        "    mean = E(X, g)\n",
        "    return np.sum([(g(k) - mean) ** 2 * f(k) for k in x_set])"
      ],
      "metadata": {
        "id": "WtUYAJCO8MfJ"
      },
      "execution_count": null,
      "outputs": []
    },
    {
      "cell_type": "markdown",
      "source": [
        "確率変数の性質の確認・表示"
      ],
      "metadata": {
        "id": "trYliJbM2cAb"
      }
    },
    {
      "cell_type": "code",
      "execution_count": null,
      "metadata": {
        "id": "90GWThpVt0kU"
      },
      "outputs": [],
      "source": [
        "def check_prob(X):\n",
        "    x_set, f = X\n",
        "\n",
        "    prob = np.array([f(k) for k in x_set])\n",
        "    assert np.all(prob >= 0), '負の確率があります'\n",
        "\n",
        "    prob_sum = np.round(np.sum(prob), 6)\n",
        "    assert prob_sum == 1, f'確率の和が{prob_sum}になりました'\n",
        "\n",
        "    print(f'期待値: {E(X):.4}, 分散: {V(X):.4}')\n",
        "\n",
        "def plot_prob(X, size=(10, 6)):\n",
        "    x_set, f = X\n",
        "\n",
        "    prob = np.array([f(k) for k in x_set])\n",
        "    e = E(X)\n",
        "\n",
        "    plt.figure(figsize=size)\n",
        "    plt.bar(x_set, prob, label='確率')\n",
        "    plt.vlines(e, 0, 1, label='期待値', color='red')\n",
        "    plt.xticks(np.append(x_set, e))\n",
        "    plt.ylim(0, prob.max() * 1.2)\n",
        "    plt.legend()\n",
        "    plt.grid(True)\n",
        "    plt.show()"
      ]
    },
    {
      "cell_type": "markdown",
      "source": [
        "### ベルヌーイ分布"
      ],
      "metadata": {
        "id": "wPLkC2sG4tiJ"
      }
    },
    {
      "cell_type": "markdown",
      "source": [
        "#### NumPyによる実装"
      ],
      "metadata": {
        "id": "3aAwIrTVa5gD"
      }
    },
    {
      "cell_type": "markdown",
      "source": [
        "ベルヌーイ分布の確率関数"
      ],
      "metadata": {
        "id": "01U1YZphu-Md"
      }
    },
    {
      "cell_type": "code",
      "source": [
        "def prob_bernoulli(x, p, x_set):\n",
        "    if x in x_set:\n",
        "        return (p ** x) * ((1 - p) ** (1 - x))\n",
        "    else:\n",
        "        return 0"
      ],
      "metadata": {
        "id": "2DBaNN7fuGAg"
      },
      "execution_count": null,
      "outputs": []
    },
    {
      "cell_type": "markdown",
      "source": [
        "サイコロで6が出るか，の確率分布"
      ],
      "metadata": {
        "id": "NLZufXuIzr9l"
      }
    },
    {
      "cell_type": "code",
      "source": [
        "bern_x_set = np.array([0, 1])\n",
        "bern_p = 0.2\n",
        "\n",
        "bern_prob = np.array(\n",
        "    [prob_bernoulli(k, bern_p, bern_x_set) for k in bern_x_set])\n",
        "pd.DataFrame(\n",
        "    bern_prob, columns=['確率'], index=pd.Index(bern_x_set, name='とりうる値'))"
      ],
      "metadata": {
        "colab": {
          "base_uri": "https://localhost:8080/",
          "height": 143
        },
        "id": "BbtsZ6wdwiEI",
        "outputId": "c5f64aa5-a447-43b7-8399-fe99c89a5a16"
      },
      "execution_count": null,
      "outputs": [
        {
          "output_type": "execute_result",
          "data": {
            "text/plain": [
              "         確率\n",
              "とりうる値      \n",
              "0     0.800\n",
              "1     0.200"
            ],
            "text/html": [
              "\n",
              "  <div id=\"df-e6b59498-ce8c-41ba-bc38-b93bf035f7d0\">\n",
              "    <div class=\"colab-df-container\">\n",
              "      <div>\n",
              "<style scoped>\n",
              "    .dataframe tbody tr th:only-of-type {\n",
              "        vertical-align: middle;\n",
              "    }\n",
              "\n",
              "    .dataframe tbody tr th {\n",
              "        vertical-align: top;\n",
              "    }\n",
              "\n",
              "    .dataframe thead th {\n",
              "        text-align: right;\n",
              "    }\n",
              "</style>\n",
              "<table border=\"1\" class=\"dataframe\">\n",
              "  <thead>\n",
              "    <tr style=\"text-align: right;\">\n",
              "      <th></th>\n",
              "      <th>確率</th>\n",
              "    </tr>\n",
              "    <tr>\n",
              "      <th>とりうる値</th>\n",
              "      <th></th>\n",
              "    </tr>\n",
              "  </thead>\n",
              "  <tbody>\n",
              "    <tr>\n",
              "      <th>0</th>\n",
              "      <td>0.800</td>\n",
              "    </tr>\n",
              "    <tr>\n",
              "      <th>1</th>\n",
              "      <td>0.200</td>\n",
              "    </tr>\n",
              "  </tbody>\n",
              "</table>\n",
              "</div>\n",
              "      <button class=\"colab-df-convert\" onclick=\"convertToInteractive('df-e6b59498-ce8c-41ba-bc38-b93bf035f7d0')\"\n",
              "              title=\"Convert this dataframe to an interactive table.\"\n",
              "              style=\"display:none;\">\n",
              "        \n",
              "  <svg xmlns=\"http://www.w3.org/2000/svg\" height=\"24px\"viewBox=\"0 0 24 24\"\n",
              "       width=\"24px\">\n",
              "    <path d=\"M0 0h24v24H0V0z\" fill=\"none\"/>\n",
              "    <path d=\"M18.56 5.44l.94 2.06.94-2.06 2.06-.94-2.06-.94-.94-2.06-.94 2.06-2.06.94zm-11 1L8.5 8.5l.94-2.06 2.06-.94-2.06-.94L8.5 2.5l-.94 2.06-2.06.94zm10 10l.94 2.06.94-2.06 2.06-.94-2.06-.94-.94-2.06-.94 2.06-2.06.94z\"/><path d=\"M17.41 7.96l-1.37-1.37c-.4-.4-.92-.59-1.43-.59-.52 0-1.04.2-1.43.59L10.3 9.45l-7.72 7.72c-.78.78-.78 2.05 0 2.83L4 21.41c.39.39.9.59 1.41.59.51 0 1.02-.2 1.41-.59l7.78-7.78 2.81-2.81c.8-.78.8-2.07 0-2.86zM5.41 20L4 18.59l7.72-7.72 1.47 1.35L5.41 20z\"/>\n",
              "  </svg>\n",
              "      </button>\n",
              "      \n",
              "  <style>\n",
              "    .colab-df-container {\n",
              "      display:flex;\n",
              "      flex-wrap:wrap;\n",
              "      gap: 12px;\n",
              "    }\n",
              "\n",
              "    .colab-df-convert {\n",
              "      background-color: #E8F0FE;\n",
              "      border: none;\n",
              "      border-radius: 50%;\n",
              "      cursor: pointer;\n",
              "      display: none;\n",
              "      fill: #1967D2;\n",
              "      height: 32px;\n",
              "      padding: 0 0 0 0;\n",
              "      width: 32px;\n",
              "    }\n",
              "\n",
              "    .colab-df-convert:hover {\n",
              "      background-color: #E2EBFA;\n",
              "      box-shadow: 0px 1px 2px rgba(60, 64, 67, 0.3), 0px 1px 3px 1px rgba(60, 64, 67, 0.15);\n",
              "      fill: #174EA6;\n",
              "    }\n",
              "\n",
              "    [theme=dark] .colab-df-convert {\n",
              "      background-color: #3B4455;\n",
              "      fill: #D2E3FC;\n",
              "    }\n",
              "\n",
              "    [theme=dark] .colab-df-convert:hover {\n",
              "      background-color: #434B5C;\n",
              "      box-shadow: 0px 1px 3px 1px rgba(0, 0, 0, 0.15);\n",
              "      filter: drop-shadow(0px 1px 2px rgba(0, 0, 0, 0.3));\n",
              "      fill: #FFFFFF;\n",
              "    }\n",
              "  </style>\n",
              "\n",
              "      <script>\n",
              "        const buttonEl =\n",
              "          document.querySelector('#df-e6b59498-ce8c-41ba-bc38-b93bf035f7d0 button.colab-df-convert');\n",
              "        buttonEl.style.display =\n",
              "          google.colab.kernel.accessAllowed ? 'block' : 'none';\n",
              "\n",
              "        async function convertToInteractive(key) {\n",
              "          const element = document.querySelector('#df-e6b59498-ce8c-41ba-bc38-b93bf035f7d0');\n",
              "          const dataTable =\n",
              "            await google.colab.kernel.invokeFunction('convertToInteractive',\n",
              "                                                     [key], {});\n",
              "          if (!dataTable) return;\n",
              "\n",
              "          const docLinkHtml = 'Like what you see? Visit the ' +\n",
              "            '<a target=\"_blank\" href=https://colab.research.google.com/notebooks/data_table.ipynb>data table notebook</a>'\n",
              "            + ' to learn more about interactive tables.';\n",
              "          element.innerHTML = '';\n",
              "          dataTable['output_type'] = 'display_data';\n",
              "          await google.colab.output.renderOutput(dataTable, element);\n",
              "          const docLink = document.createElement('div');\n",
              "          docLink.innerHTML = docLinkHtml;\n",
              "          element.appendChild(docLink);\n",
              "        }\n",
              "      </script>\n",
              "    </div>\n",
              "  </div>\n",
              "  "
            ]
          },
          "metadata": {},
          "execution_count": 10
        }
      ]
    },
    {
      "cell_type": "markdown",
      "source": [
        "ベルヌーイ分布の確率変数を返す関数"
      ],
      "metadata": {
        "id": "Thc9esjqsZDN"
      }
    },
    {
      "cell_type": "code",
      "source": [
        "def Bern(p):\n",
        "    x_set = np.array([0, 1])\n",
        "\n",
        "    def f(x):\n",
        "        if x in x_set:\n",
        "            return (p ** x) * ((1 - p) ** (1 - x))\n",
        "        else:\n",
        "            return 0\n",
        "    \n",
        "    return x_set, f"
      ],
      "metadata": {
        "id": "J3v6UJSUq-ka"
      },
      "execution_count": null,
      "outputs": []
    },
    {
      "cell_type": "markdown",
      "source": [
        "確率変数の性質の確認"
      ],
      "metadata": {
        "id": "oSnSH5NRvFM6"
      }
    },
    {
      "cell_type": "code",
      "source": [
        "p = 0.2\n",
        "X = Bern(p)\n",
        "\n",
        "check_prob(X)"
      ],
      "metadata": {
        "colab": {
          "base_uri": "https://localhost:8080/"
        },
        "id": "Mo-GXQh2sccD",
        "outputId": "e210a751-b336-40e5-a45b-a0f5b9d55884"
      },
      "execution_count": null,
      "outputs": [
        {
          "output_type": "stream",
          "name": "stdout",
          "text": [
            "期待値: 0.2, 分散: 0.16\n"
          ]
        }
      ]
    },
    {
      "cell_type": "markdown",
      "source": [
        "確率変数の図示"
      ],
      "metadata": {
        "id": "OaTL9Gc0xQsx"
      }
    },
    {
      "cell_type": "code",
      "source": [
        "plot_prob(X, size=(4, 4))"
      ],
      "metadata": {
        "colab": {
          "base_uri": "https://localhost:8080/",
          "height": 264
        },
        "id": "6UG9jmSOxR3G",
        "outputId": "2a283783-4112-4b93-dc5a-18f0a9ff351a"
      },
      "execution_count": null,
      "outputs": [
        {
          "output_type": "display_data",
          "data": {
            "text/plain": [
              "<Figure size 288x288 with 1 Axes>"
            ],
            "image/png": "[encoded data removed]"
          },
          "metadata": {
            "needs_background": "light"
          }
        }
      ]
    },
    {
      "cell_type": "markdown",
      "source": [
        "#### SciPyによる実装"
      ],
      "metadata": {
        "id": "aJamBXazbAYc"
      }
    },
    {
      "cell_type": "markdown",
      "source": [
        "SciPyでベルヌーイ分布に従う確率変数を返す"
      ],
      "metadata": {
        "id": "pi0wugTEvFil"
      }
    },
    {
      "cell_type": "markdown",
      "source": [],
      "metadata": {
        "id": "f2WTO5ZtvDZ4"
      }
    },
    {
      "cell_type": "code",
      "source": [
        "rv = stats.bernoulli(p)\n",
        "rv"
      ],
      "metadata": {
        "colab": {
          "base_uri": "https://localhost:8080/"
        },
        "id": "sl3fNeTWbDYw",
        "outputId": "2ad80fed-2662-422f-9315-9472881f011e"
      },
      "execution_count": null,
      "outputs": [
        {
          "output_type": "execute_result",
          "data": {
            "text/plain": [
              "<scipy.stats._distn_infrastructure.rv_frozen at 0x7f723577d1d0>"
            ]
          },
          "metadata": {},
          "execution_count": 14
        }
      ]
    },
    {
      "cell_type": "markdown",
      "source": [
        "確率関数"
      ],
      "metadata": {
        "id": "8AXJ2aVDvGxx"
      }
    },
    {
      "cell_type": "code",
      "source": [
        "rv.pmf(0), rv.pmf(1)"
      ],
      "metadata": {
        "colab": {
          "base_uri": "https://localhost:8080/"
        },
        "id": "KhA9y6zSvNXE",
        "outputId": "63707fa9-173f-42a8-94ef-3c3ab1af692f"
      },
      "execution_count": null,
      "outputs": [
        {
          "output_type": "execute_result",
          "data": {
            "text/plain": [
              "(0.8, 0.2)"
            ]
          },
          "metadata": {},
          "execution_count": 15
        }
      ]
    },
    {
      "cell_type": "markdown",
      "source": [
        "確率関数にリストを渡す"
      ],
      "metadata": {
        "id": "prfAU0cYv_ME"
      }
    },
    {
      "cell_type": "code",
      "source": [
        "rv.pmf([0, 1])"
      ],
      "metadata": {
        "colab": {
          "base_uri": "https://localhost:8080/"
        },
        "id": "RfKyzJiDwBx-",
        "outputId": "c1089369-6b21-459b-c035-b1a6f14fcf91"
      },
      "execution_count": null,
      "outputs": [
        {
          "output_type": "execute_result",
          "data": {
            "text/plain": [
              "array([0.8, 0.2])"
            ]
          },
          "metadata": {},
          "execution_count": 16
        }
      ]
    },
    {
      "cell_type": "markdown",
      "source": [
        "累積密度関数"
      ],
      "metadata": {
        "id": "IqrUYkrOwZ9a"
      }
    },
    {
      "cell_type": "code",
      "source": [
        "rv.cdf([0, 1])"
      ],
      "metadata": {
        "colab": {
          "base_uri": "https://localhost:8080/"
        },
        "id": "GWUf7TXcwdHh",
        "outputId": "f557cc6d-2e9a-4490-bb6d-bdf4b169c2b7"
      },
      "execution_count": null,
      "outputs": [
        {
          "output_type": "execute_result",
          "data": {
            "text/plain": [
              "array([0.8, 1. ])"
            ]
          },
          "metadata": {},
          "execution_count": 17
        }
      ]
    },
    {
      "cell_type": "markdown",
      "source": [
        "期待値，分散"
      ],
      "metadata": {
        "id": "bO85jkg_xIgd"
      }
    },
    {
      "cell_type": "code",
      "source": [
        "print(f'期待値:{rv.mean():.3f} 分散:{rv.var():.3f}')"
      ],
      "metadata": {
        "colab": {
          "base_uri": "https://localhost:8080/"
        },
        "id": "scqlMBvCxKtV",
        "outputId": "3d55358a-f262-4e23-9114-d040fa172129"
      },
      "execution_count": null,
      "outputs": [
        {
          "output_type": "stream",
          "name": "stdout",
          "text": [
            "期待値:0.200 分散:0.160\n"
          ]
        }
      ]
    },
    {
      "cell_type": "markdown",
      "source": [
        "### 二項分布"
      ],
      "metadata": {
        "id": "mrOu-B-A6-bB"
      }
    },
    {
      "cell_type": "markdown",
      "source": [
        "#### NumPyによる実装"
      ],
      "metadata": {
        "id": "9d1wpYBsKtbC"
      }
    },
    {
      "cell_type": "markdown",
      "source": [
        "二項分布の確率変数を返す関数"
      ],
      "metadata": {
        "id": "6RkzQ6uvKM4G"
      }
    },
    {
      "cell_type": "code",
      "source": [
        "from scipy.special import comb\n",
        "\n",
        "def Bin(n, p):\n",
        "    x_set = np.arange(n + 1)\n",
        "    \n",
        "    def f(x):\n",
        "        if x in x_set:\n",
        "            return comb(n, x) * (p ** x) * ((1 - p) ** (n - x))\n",
        "        else:\n",
        "            return 0\n",
        "        return x_set, f\n",
        "    \n",
        "    return x_set, f"
      ],
      "metadata": {
        "id": "EkRH3rLyKMXz"
      },
      "execution_count": null,
      "outputs": []
    },
    {
      "cell_type": "markdown",
      "source": [
        "コインを`3`回投げたとき表が出る回数の確率分布"
      ],
      "metadata": {
        "id": "-iBZ5-EtgS_A"
      }
    },
    {
      "cell_type": "code",
      "source": [
        "n = 3\n",
        "p = 0.5\n",
        "X = Bin(n, p)\n",
        "\n",
        "x_set, bin = X\n",
        "pd.DataFrame(\n",
        "    [bin(x) for x in x_set],\n",
        "    index=pd.Index(x_set, name='表が出る回数'),\n",
        "    columns=['確率']).T"
      ],
      "metadata": {
        "colab": {
          "base_uri": "https://localhost:8080/",
          "height": 81
        },
        "id": "MhBlTmS1gSwr",
        "outputId": "89ba1ca3-4a76-445a-8fed-704f2616a021"
      },
      "execution_count": null,
      "outputs": [
        {
          "output_type": "execute_result",
          "data": {
            "text/plain": [
              "表が出る回数     0     1     2     3\n",
              "確率     0.125 0.375 0.375 0.125"
            ],
            "text/html": [
              "\n",
              "  <div id=\"df-cb64ba57-f96a-4218-8711-38b6d32b8aaa\">\n",
              "    <div class=\"colab-df-container\">\n",
              "      <div>\n",
              "<style scoped>\n",
              "    .dataframe tbody tr th:only-of-type {\n",
              "        vertical-align: middle;\n",
              "    }\n",
              "\n",
              "    .dataframe tbody tr th {\n",
              "        vertical-align: top;\n",
              "    }\n",
              "\n",
              "    .dataframe thead th {\n",
              "        text-align: right;\n",
              "    }\n",
              "</style>\n",
              "<table border=\"1\" class=\"dataframe\">\n",
              "  <thead>\n",
              "    <tr style=\"text-align: right;\">\n",
              "      <th>表が出る回数</th>\n",
              "      <th>0</th>\n",
              "      <th>1</th>\n",
              "      <th>2</th>\n",
              "      <th>3</th>\n",
              "    </tr>\n",
              "  </thead>\n",
              "  <tbody>\n",
              "    <tr>\n",
              "      <th>確率</th>\n",
              "      <td>0.125</td>\n",
              "      <td>0.375</td>\n",
              "      <td>0.375</td>\n",
              "      <td>0.125</td>\n",
              "    </tr>\n",
              "  </tbody>\n",
              "</table>\n",
              "</div>\n",
              "      <button class=\"colab-df-convert\" onclick=\"convertToInteractive('df-cb64ba57-f96a-4218-8711-38b6d32b8aaa')\"\n",
              "              title=\"Convert this dataframe to an interactive table.\"\n",
              "              style=\"display:none;\">\n",
              "        \n",
              "  <svg xmlns=\"http://www.w3.org/2000/svg\" height=\"24px\"viewBox=\"0 0 24 24\"\n",
              "       width=\"24px\">\n",
              "    <path d=\"M0 0h24v24H0V0z\" fill=\"none\"/>\n",
              "    <path d=\"M18.56 5.44l.94 2.06.94-2.06 2.06-.94-2.06-.94-.94-2.06-.94 2.06-2.06.94zm-11 1L8.5 8.5l.94-2.06 2.06-.94-2.06-.94L8.5 2.5l-.94 2.06-2.06.94zm10 10l.94 2.06.94-2.06 2.06-.94-2.06-.94-.94-2.06-.94 2.06-2.06.94z\"/><path d=\"M17.41 7.96l-1.37-1.37c-.4-.4-.92-.59-1.43-.59-.52 0-1.04.2-1.43.59L10.3 9.45l-7.72 7.72c-.78.78-.78 2.05 0 2.83L4 21.41c.39.39.9.59 1.41.59.51 0 1.02-.2 1.41-.59l7.78-7.78 2.81-2.81c.8-.78.8-2.07 0-2.86zM5.41 20L4 18.59l7.72-7.72 1.47 1.35L5.41 20z\"/>\n",
              "  </svg>\n",
              "      </button>\n",
              "      \n",
              "  <style>\n",
              "    .colab-df-container {\n",
              "      display:flex;\n",
              "      flex-wrap:wrap;\n",
              "      gap: 12px;\n",
              "    }\n",
              "\n",
              "    .colab-df-convert {\n",
              "      background-color: #E8F0FE;\n",
              "      border: none;\n",
              "      border-radius: 50%;\n",
              "      cursor: pointer;\n",
              "      display: none;\n",
              "      fill: #1967D2;\n",
              "      height: 32px;\n",
              "      padding: 0 0 0 0;\n",
              "      width: 32px;\n",
              "    }\n",
              "\n",
              "    .colab-df-convert:hover {\n",
              "      background-color: #E2EBFA;\n",
              "      box-shadow: 0px 1px 2px rgba(60, 64, 67, 0.3), 0px 1px 3px 1px rgba(60, 64, 67, 0.15);\n",
              "      fill: #174EA6;\n",
              "    }\n",
              "\n",
              "    [theme=dark] .colab-df-convert {\n",
              "      background-color: #3B4455;\n",
              "      fill: #D2E3FC;\n",
              "    }\n",
              "\n",
              "    [theme=dark] .colab-df-convert:hover {\n",
              "      background-color: #434B5C;\n",
              "      box-shadow: 0px 1px 3px 1px rgba(0, 0, 0, 0.15);\n",
              "      filter: drop-shadow(0px 1px 2px rgba(0, 0, 0, 0.3));\n",
              "      fill: #FFFFFF;\n",
              "    }\n",
              "  </style>\n",
              "\n",
              "      <script>\n",
              "        const buttonEl =\n",
              "          document.querySelector('#df-cb64ba57-f96a-4218-8711-38b6d32b8aaa button.colab-df-convert');\n",
              "        buttonEl.style.display =\n",
              "          google.colab.kernel.accessAllowed ? 'block' : 'none';\n",
              "\n",
              "        async function convertToInteractive(key) {\n",
              "          const element = document.querySelector('#df-cb64ba57-f96a-4218-8711-38b6d32b8aaa');\n",
              "          const dataTable =\n",
              "            await google.colab.kernel.invokeFunction('convertToInteractive',\n",
              "                                                     [key], {});\n",
              "          if (!dataTable) return;\n",
              "\n",
              "          const docLinkHtml = 'Like what you see? Visit the ' +\n",
              "            '<a target=\"_blank\" href=https://colab.research.google.com/notebooks/data_table.ipynb>data table notebook</a>'\n",
              "            + ' to learn more about interactive tables.';\n",
              "          element.innerHTML = '';\n",
              "          dataTable['output_type'] = 'display_data';\n",
              "          await google.colab.output.renderOutput(dataTable, element);\n",
              "          const docLink = document.createElement('div');\n",
              "          docLink.innerHTML = docLinkHtml;\n",
              "          element.appendChild(docLink);\n",
              "        }\n",
              "      </script>\n",
              "    </div>\n",
              "  </div>\n",
              "  "
            ]
          },
          "metadata": {},
          "execution_count": 16
        }
      ]
    },
    {
      "cell_type": "markdown",
      "source": [
        "サイコロを`10`回投げたとき`6`が出る回数の確率分布"
      ],
      "metadata": {
        "id": "VKrl7ZDVkdGL"
      }
    },
    {
      "cell_type": "code",
      "source": [
        "n = 10\n",
        "p = 1/6\n",
        "X = Bin(n, p)\n",
        "\n",
        "x_set, bin = X\n",
        "prob = pd.DataFrame(\n",
        "    [bin(x) for x in x_set],\n",
        "    index=pd.Index(x_set, name='6が出る回数'),\n",
        "    columns=['確率'])\n",
        "prob.T"
      ],
      "metadata": {
        "colab": {
          "base_uri": "https://localhost:8080/",
          "height": 81
        },
        "id": "UV2zj9bWkcND",
        "outputId": "e68783e2-f1ca-4a7a-f223-009809074d66"
      },
      "execution_count": null,
      "outputs": [
        {
          "output_type": "execute_result",
          "data": {
            "text/plain": [
              "6が出る回数    0     1     2     3     4     5     6     7     8     9     10\n",
              "確率     0.162 0.323 0.291 0.155 0.054 0.013 0.002 0.000 0.000 0.000 0.000"
            ],
            "text/html": [
              "\n",
              "  <div id=\"df-7b5b5b87-8553-49d9-a743-c889090e90c8\">\n",
              "    <div class=\"colab-df-container\">\n",
              "      <div>\n",
              "<style scoped>\n",
              "    .dataframe tbody tr th:only-of-type {\n",
              "        vertical-align: middle;\n",
              "    }\n",
              "\n",
              "    .dataframe tbody tr th {\n",
              "        vertical-align: top;\n",
              "    }\n",
              "\n",
              "    .dataframe thead th {\n",
              "        text-align: right;\n",
              "    }\n",
              "</style>\n",
              "<table border=\"1\" class=\"dataframe\">\n",
              "  <thead>\n",
              "    <tr style=\"text-align: right;\">\n",
              "      <th>6が出る回数</th>\n",
              "      <th>0</th>\n",
              "      <th>1</th>\n",
              "      <th>2</th>\n",
              "      <th>3</th>\n",
              "      <th>4</th>\n",
              "      <th>5</th>\n",
              "      <th>6</th>\n",
              "      <th>7</th>\n",
              "      <th>8</th>\n",
              "      <th>9</th>\n",
              "      <th>10</th>\n",
              "    </tr>\n",
              "  </thead>\n",
              "  <tbody>\n",
              "    <tr>\n",
              "      <th>確率</th>\n",
              "      <td>0.162</td>\n",
              "      <td>0.323</td>\n",
              "      <td>0.291</td>\n",
              "      <td>0.155</td>\n",
              "      <td>0.054</td>\n",
              "      <td>0.013</td>\n",
              "      <td>0.002</td>\n",
              "      <td>0.000</td>\n",
              "      <td>0.000</td>\n",
              "      <td>0.000</td>\n",
              "      <td>0.000</td>\n",
              "    </tr>\n",
              "  </tbody>\n",
              "</table>\n",
              "</div>\n",
              "      <button class=\"colab-df-convert\" onclick=\"convertToInteractive('df-7b5b5b87-8553-49d9-a743-c889090e90c8')\"\n",
              "              title=\"Convert this dataframe to an interactive table.\"\n",
              "              style=\"display:none;\">\n",
              "        \n",
              "  <svg xmlns=\"http://www.w3.org/2000/svg\" height=\"24px\"viewBox=\"0 0 24 24\"\n",
              "       width=\"24px\">\n",
              "    <path d=\"M0 0h24v24H0V0z\" fill=\"none\"/>\n",
              "    <path d=\"M18.56 5.44l.94 2.06.94-2.06 2.06-.94-2.06-.94-.94-2.06-.94 2.06-2.06.94zm-11 1L8.5 8.5l.94-2.06 2.06-.94-2.06-.94L8.5 2.5l-.94 2.06-2.06.94zm10 10l.94 2.06.94-2.06 2.06-.94-2.06-.94-.94-2.06-.94 2.06-2.06.94z\"/><path d=\"M17.41 7.96l-1.37-1.37c-.4-.4-.92-.59-1.43-.59-.52 0-1.04.2-1.43.59L10.3 9.45l-7.72 7.72c-.78.78-.78 2.05 0 2.83L4 21.41c.39.39.9.59 1.41.59.51 0 1.02-.2 1.41-.59l7.78-7.78 2.81-2.81c.8-.78.8-2.07 0-2.86zM5.41 20L4 18.59l7.72-7.72 1.47 1.35L5.41 20z\"/>\n",
              "  </svg>\n",
              "      </button>\n",
              "      \n",
              "  <style>\n",
              "    .colab-df-container {\n",
              "      display:flex;\n",
              "      flex-wrap:wrap;\n",
              "      gap: 12px;\n",
              "    }\n",
              "\n",
              "    .colab-df-convert {\n",
              "      background-color: #E8F0FE;\n",
              "      border: none;\n",
              "      border-radius: 50%;\n",
              "      cursor: pointer;\n",
              "      display: none;\n",
              "      fill: #1967D2;\n",
              "      height: 32px;\n",
              "      padding: 0 0 0 0;\n",
              "      width: 32px;\n",
              "    }\n",
              "\n",
              "    .colab-df-convert:hover {\n",
              "      background-color: #E2EBFA;\n",
              "      box-shadow: 0px 1px 2px rgba(60, 64, 67, 0.3), 0px 1px 3px 1px rgba(60, 64, 67, 0.15);\n",
              "      fill: #174EA6;\n",
              "    }\n",
              "\n",
              "    [theme=dark] .colab-df-convert {\n",
              "      background-color: #3B4455;\n",
              "      fill: #D2E3FC;\n",
              "    }\n",
              "\n",
              "    [theme=dark] .colab-df-convert:hover {\n",
              "      background-color: #434B5C;\n",
              "      box-shadow: 0px 1px 3px 1px rgba(0, 0, 0, 0.15);\n",
              "      filter: drop-shadow(0px 1px 2px rgba(0, 0, 0, 0.3));\n",
              "      fill: #FFFFFF;\n",
              "    }\n",
              "  </style>\n",
              "\n",
              "      <script>\n",
              "        const buttonEl =\n",
              "          document.querySelector('#df-7b5b5b87-8553-49d9-a743-c889090e90c8 button.colab-df-convert');\n",
              "        buttonEl.style.display =\n",
              "          google.colab.kernel.accessAllowed ? 'block' : 'none';\n",
              "\n",
              "        async function convertToInteractive(key) {\n",
              "          const element = document.querySelector('#df-7b5b5b87-8553-49d9-a743-c889090e90c8');\n",
              "          const dataTable =\n",
              "            await google.colab.kernel.invokeFunction('convertToInteractive',\n",
              "                                                     [key], {});\n",
              "          if (!dataTable) return;\n",
              "\n",
              "          const docLinkHtml = 'Like what you see? Visit the ' +\n",
              "            '<a target=\"_blank\" href=https://colab.research.google.com/notebooks/data_table.ipynb>data table notebook</a>'\n",
              "            + ' to learn more about interactive tables.';\n",
              "          element.innerHTML = '';\n",
              "          dataTable['output_type'] = 'display_data';\n",
              "          await google.colab.output.renderOutput(dataTable, element);\n",
              "          const docLink = document.createElement('div');\n",
              "          docLink.innerHTML = docLinkHtml;\n",
              "          element.appendChild(docLink);\n",
              "        }\n",
              "      </script>\n",
              "    </div>\n",
              "  </div>\n",
              "  "
            ]
          },
          "metadata": {},
          "execution_count": 17
        }
      ]
    },
    {
      "cell_type": "markdown",
      "source": [
        "期待値と分散"
      ],
      "metadata": {
        "id": "5FD-RWPOkXI6"
      }
    },
    {
      "cell_type": "code",
      "source": [
        "check_prob(X)"
      ],
      "metadata": {
        "colab": {
          "base_uri": "https://localhost:8080/"
        },
        "id": "FgUtv4KNnTjL",
        "outputId": "c0ffde31-1652-4adc-fa96-5ffb70bb21df"
      },
      "execution_count": null,
      "outputs": [
        {
          "output_type": "stream",
          "name": "stdout",
          "text": [
            "期待値: 1.667, 分散: 1.389\n"
          ]
        }
      ]
    },
    {
      "cell_type": "markdown",
      "source": [
        "確率分布と期待値の図示"
      ],
      "metadata": {
        "id": "VQ8YWMUnotk-"
      }
    },
    {
      "cell_type": "code",
      "source": [
        "plot_prob(X)"
      ],
      "metadata": {
        "colab": {
          "base_uri": "https://localhost:8080/",
          "height": 373
        },
        "id": "VT_p2i-7ovZ7",
        "outputId": "70696985-28e1-4a6d-b20d-929c80d0b7e7"
      },
      "execution_count": null,
      "outputs": [
        {
          "output_type": "display_data",
          "data": {
            "text/plain": [
              "<Figure size 720x432 with 1 Axes>"
            ],
            "image/png": "[encoded data removed]"
          },
          "metadata": {
            "needs_background": "light"
          }
        }
      ]
    },
    {
      "cell_type": "markdown",
      "source": [
        "3回以上成功する確率の算出"
      ],
      "metadata": {
        "id": "gjTuuxFYbdQ-"
      }
    },
    {
      "cell_type": "code",
      "source": [
        "prob[prob.index >= 3].sum()"
      ],
      "metadata": {
        "colab": {
          "base_uri": "https://localhost:8080/"
        },
        "id": "ACv-ELCFbhec",
        "outputId": "53fc0c99-5913-4bbb-ab8c-320a62756764"
      },
      "execution_count": null,
      "outputs": [
        {
          "output_type": "execute_result",
          "data": {
            "text/plain": [
              "確率   0.225\n",
              "dtype: float64"
            ]
          },
          "metadata": {},
          "execution_count": 22
        }
      ]
    },
    {
      "cell_type": "markdown",
      "source": [
        "#### SciPyによる実装"
      ],
      "metadata": {
        "id": "zMlj9um2kMS8"
      }
    },
    {
      "cell_type": "code",
      "source": [
        "n = 10\n",
        "x_set = np.arange(n + 1)\n",
        "\n",
        "plt.figure(figsize=(10, 6))\n",
        "for i in range(1, 10):\n",
        "    p = i / 10\n",
        "    \n",
        "    rv = stats.binom(n, p)\n",
        "    prob = rv.pmf(x_set)\n",
        "\n",
        "    plt.plot(x_set, prob, label=f'p:{p}')\n",
        "plt.grid(True)\n",
        "plt.xlabel('成功回数')\n",
        "plt.ylabel('確率')\n",
        "plt.legend()\n",
        "plt.show()"
      ],
      "metadata": {
        "colab": {
          "base_uri": "https://localhost:8080/",
          "height": 386
        },
        "id": "OcnrpEKqyJ-d",
        "outputId": "6c6045f2-cd63-45da-cf1d-741ae59cda8c"
      },
      "execution_count": null,
      "outputs": [
        {
          "output_type": "display_data",
          "data": {
            "text/plain": [
              "<Figure size 720x432 with 1 Axes>"
            ],
            "image/png": "[encoded data removed]"
          },
          "metadata": {
            "needs_background": "light"
          }
        }
      ]
    },
    {
      "cell_type": "markdown",
      "source": [
        "#### 使いどころ"
      ],
      "metadata": {
        "id": "UKJYduY7s-Kz"
      }
    },
    {
      "cell_type": "markdown",
      "source": [
        "内定社数"
      ],
      "metadata": {
        "id": "IoZoZA9ZtDuR"
      }
    },
    {
      "cell_type": "code",
      "source": [
        "X = Bin(0.15, 10)\n",
        "\n",
        "check_prob(X)\n",
        "plot_prob(X)"
      ],
      "metadata": {
        "colab": {
          "base_uri": "https://localhost:8080/",
          "height": 391
        },
        "id": "nMBgK3g7tGDb",
        "outputId": "df885a36-951b-4269-eceb-ec4a0594d73a"
      },
      "execution_count": null,
      "outputs": [
        {
          "output_type": "stream",
          "name": "stdout",
          "text": [
            "期待値: 1.5, 分散: 1.275\n"
          ]
        },
        {
          "output_type": "display_data",
          "data": {
            "text/plain": [
              "<Figure size 720x432 with 1 Axes>"
            ],
            "image/png": "[encoded data removed]"
          },
          "metadata": {
            "needs_background": "light"
          }
        }
      ]
    },
    {
      "cell_type": "markdown",
      "source": [
        "内定が2社以上得られる確率"
      ],
      "metadata": {
        "id": "PeEYAbP-5Xr7"
      }
    },
    {
      "cell_type": "code",
      "source": [
        "x_set, bin = X\n",
        "prob = [bin(x) for x in x_set[x_set >= 2]]\n",
        "np.sum(prob)"
      ],
      "metadata": {
        "colab": {
          "base_uri": "https://localhost:8080/"
        },
        "id": "1rmIgAuG5Yds",
        "outputId": "038b2acb-1f7a-4d7a-db44-6554f872f1bf"
      },
      "execution_count": null,
      "outputs": [
        {
          "output_type": "execute_result",
          "data": {
            "text/plain": [
              "0.45570017623447245"
            ]
          },
          "metadata": {},
          "execution_count": 69
        }
      ]
    },
    {
      "cell_type": "markdown",
      "source": [
        "\n",
        "### 幾何分布"
      ],
      "metadata": {
        "id": "nPhBT2dcyG5D"
      }
    },
    {
      "cell_type": "markdown",
      "source": [
        "#### NumPyによる実装"
      ],
      "metadata": {
        "id": "EMwIOO34Xu7Y"
      }
    },
    {
      "cell_type": "markdown",
      "source": [
        "幾何分布の確率変数"
      ],
      "metadata": {
        "id": "L6xQZG4YXyaV"
      }
    },
    {
      "cell_type": "code",
      "source": [
        "def Ge(p, x_max):\n",
        "    x_set = np.arange(1, x_max + 1)\n",
        "    \n",
        "    def f(x):\n",
        "        if x in x_set:\n",
        "            return p * ((1 - p) ** (x - 1))\n",
        "        else:\n",
        "            return 0\n",
        "    return x_set, f"
      ],
      "metadata": {
        "id": "6kd9YjQCXwjd"
      },
      "execution_count": null,
      "outputs": []
    },
    {
      "cell_type": "markdown",
      "source": [
        "エラーになる引数.."
      ],
      "metadata": {
        "id": "qqoJJOq6t5yG"
      }
    },
    {
      "cell_type": "code",
      "source": [
        "X = Ge(0.1, x_max=100)\n",
        "check_prob(X)"
      ],
      "metadata": {
        "colab": {
          "base_uri": "https://localhost:8080/",
          "height": 316
        },
        "id": "P-ggIQ6Rt5On",
        "outputId": "b089c0d3-5667-48cf-aaf7-3c275bbf34dc"
      },
      "execution_count": null,
      "outputs": [
        {
          "output_type": "error",
          "ename": "AssertionError",
          "evalue": "ignored",
          "traceback": [
            "\u001b[0;31m---------------------------------------------------------------------------\u001b[0m",
            "\u001b[0;31mAssertionError\u001b[0m                            Traceback (most recent call last)",
            "\u001b[0;32m<ipython-input-49-7d57ee186295>\u001b[0m in \u001b[0;36m<module>\u001b[0;34m\u001b[0m\n\u001b[1;32m      1\u001b[0m \u001b[0mX\u001b[0m \u001b[0;34m=\u001b[0m \u001b[0mGe\u001b[0m\u001b[0;34m(\u001b[0m\u001b[0;36m0.1\u001b[0m\u001b[0;34m,\u001b[0m \u001b[0mx_max\u001b[0m\u001b[0;34m=\u001b[0m\u001b[0;36m100\u001b[0m\u001b[0;34m)\u001b[0m\u001b[0;34m\u001b[0m\u001b[0;34m\u001b[0m\u001b[0m\n\u001b[0;32m----> 2\u001b[0;31m \u001b[0mcheck_prob\u001b[0m\u001b[0;34m(\u001b[0m\u001b[0mX\u001b[0m\u001b[0;34m)\u001b[0m\u001b[0;34m\u001b[0m\u001b[0;34m\u001b[0m\u001b[0m\n\u001b[0m",
            "\u001b[0;32m<ipython-input-5-fc7bec9aca03>\u001b[0m in \u001b[0;36mcheck_prob\u001b[0;34m(X)\u001b[0m\n\u001b[1;32m      6\u001b[0m \u001b[0;34m\u001b[0m\u001b[0m\n\u001b[1;32m      7\u001b[0m     \u001b[0mprob_sum\u001b[0m \u001b[0;34m=\u001b[0m \u001b[0mnp\u001b[0m\u001b[0;34m.\u001b[0m\u001b[0mround\u001b[0m\u001b[0;34m(\u001b[0m\u001b[0mnp\u001b[0m\u001b[0;34m.\u001b[0m\u001b[0msum\u001b[0m\u001b[0;34m(\u001b[0m\u001b[0mprob\u001b[0m\u001b[0;34m)\u001b[0m\u001b[0;34m,\u001b[0m \u001b[0;36m6\u001b[0m\u001b[0;34m)\u001b[0m\u001b[0;34m\u001b[0m\u001b[0;34m\u001b[0m\u001b[0m\n\u001b[0;32m----> 8\u001b[0;31m     \u001b[0;32massert\u001b[0m \u001b[0mprob_sum\u001b[0m \u001b[0;34m==\u001b[0m \u001b[0;36m1\u001b[0m\u001b[0;34m,\u001b[0m \u001b[0;34mf'確率の和が{prob_sum}になりました'\u001b[0m\u001b[0;34m\u001b[0m\u001b[0;34m\u001b[0m\u001b[0m\n\u001b[0m\u001b[1;32m      9\u001b[0m \u001b[0;34m\u001b[0m\u001b[0m\n\u001b[1;32m     10\u001b[0m     \u001b[0mprint\u001b[0m\u001b[0;34m(\u001b[0m\u001b[0;34mf'期待値: {E(X):.4}, 分散: {V(X):.4}'\u001b[0m\u001b[0;34m)\u001b[0m\u001b[0;34m\u001b[0m\u001b[0;34m\u001b[0m\u001b[0m\n",
            "\u001b[0;31mAssertionError\u001b[0m: 確率の和が0.999973になりました"
          ]
        }
      ]
    },
    {
      "cell_type": "markdown",
      "source": [
        "幾何分布の性質"
      ],
      "metadata": {
        "id": "Dg7Am6kNrYnF"
      }
    },
    {
      "cell_type": "code",
      "source": [
        "X = Ge(0.2, x_max=100)\n",
        "check_prob(X)\n",
        "plot_prob(X, size=(24, 4))"
      ],
      "metadata": {
        "colab": {
          "base_uri": "https://localhost:8080/",
          "height": 282
        },
        "id": "_aetYDsPq-YS",
        "outputId": "e47dd0eb-c8e9-42b9-e2e5-4638edb78ac6"
      },
      "execution_count": null,
      "outputs": [
        {
          "output_type": "stream",
          "name": "stdout",
          "text": [
            "期待値: 5.0, 分散: 20.0\n"
          ]
        },
        {
          "output_type": "display_data",
          "data": {
            "text/plain": [
              "<Figure size 1728x288 with 1 Axes>"
            ],
            "image/png": "[encoded data removed]"
          },
          "metadata": {
            "needs_background": "light"
          }
        }
      ]
    },
    {
      "cell_type": "markdown",
      "source": [
        "### SciPyによる実装"
      ],
      "metadata": {
        "id": "gUz71XM-rbgg"
      }
    },
    {
      "cell_type": "code",
      "source": [
        "x_set = np.arange(1, 21)\n",
        "\n",
        "plt.figure(figsize=(10, 6))\n",
        "for i in range(1, 10):\n",
        "    p = i / 10\n",
        "    \n",
        "    rv = stats.geom(p)\n",
        "    prob = rv.pmf(x_set)\n",
        "\n",
        "    plt.plot(x_set, prob, label=f'p:{p}')\n",
        "plt.grid(True)\n",
        "plt.xticks(x_set)\n",
        "plt.xlabel('試行回数')\n",
        "plt.ylabel('確率')\n",
        "plt.legend()\n",
        "plt.show()"
      ],
      "metadata": {
        "colab": {
          "base_uri": "https://localhost:8080/",
          "height": 386
        },
        "id": "vcWh1-Uprbzl",
        "outputId": "fac719a9-5df5-45e1-c355-283478e63220"
      },
      "execution_count": null,
      "outputs": [
        {
          "output_type": "display_data",
          "data": {
            "text/plain": [
              "<Figure size 720x432 with 1 Axes>"
            ],
            "image/png": "[encoded data removed]"
          },
          "metadata": {
            "needs_background": "light"
          }
        }
      ]
    },
    {
      "cell_type": "markdown",
      "source": [
        "#### 使いどころ"
      ],
      "metadata": {
        "id": "FsiGnAJ68YgZ"
      }
    },
    {
      "cell_type": "markdown",
      "source": [
        "定期購入サービスの解約確率"
      ],
      "metadata": {
        "id": "7jWUn5Or-1av"
      }
    },
    {
      "cell_type": "code",
      "source": [
        "x_set = np.arange(1, 32)\n",
        "\n",
        "p = 0.13\n",
        "rv = stats.geom(p)\n",
        "pmf = rv.pmf(x_set)\n",
        "e = rv.mean()\n",
        "print(f'平均継続月数:{e:.03f}');\n",
        "\n",
        "plt.figure(figsize=(10, 6))\n",
        "plt.bar(x_set, pmf, label='解約確率')\n",
        "plt.vlines(e, 0, 0.15, label='平均', color='red')\n",
        "plt.grid(True)\n",
        "plt.xticks(x_set)\n",
        "plt.xlabel('継続月数')\n",
        "plt.ylabel('確率')\n",
        "plt.legend()\n",
        "plt.show()"
      ],
      "metadata": {
        "colab": {
          "base_uri": "https://localhost:8080/",
          "height": 405
        },
        "id": "4K6jO5zx8XpP",
        "outputId": "36ed5550-cebc-41bc-d20a-4891cde82f24"
      },
      "execution_count": null,
      "outputs": [
        {
          "output_type": "stream",
          "name": "stdout",
          "text": [
            "平均継続月数:7.692\n"
          ]
        },
        {
          "output_type": "display_data",
          "data": {
            "text/plain": [
              "<Figure size 720x432 with 1 Axes>"
            ],
            "image/png": "[encoded data removed]"
          },
          "metadata": {
            "needs_background": "light"
          }
        }
      ]
    },
    {
      "cell_type": "markdown",
      "source": [
        "### ポアソン分布"
      ],
      "metadata": {
        "id": "v43144iNQ7Jv"
      }
    },
    {
      "cell_type": "markdown",
      "source": [
        "#### NumPyによる実装"
      ],
      "metadata": {
        "id": "WvSN48ssQ9dl"
      }
    },
    {
      "cell_type": "markdown",
      "source": [
        "ポアソン分布の確率変数"
      ],
      "metadata": {
        "id": "D3z4vZkI0Gz_"
      }
    },
    {
      "cell_type": "code",
      "source": [
        "from scipy.special import factorial\n",
        "\n",
        "def Poi(lam, x_max):\n",
        "    x_set = np.arange(x_max + 1)\n",
        "    \n",
        "    def f(x):\n",
        "        if x in x_set:\n",
        "            return np.power(lam, x) / factorial(x) * np.exp(-lam)\n",
        "        else:\n",
        "            return 0\n",
        "    return x_set, f "
      ],
      "metadata": {
        "id": "E4-xzfn1Q_6Q"
      },
      "execution_count": null,
      "outputs": []
    },
    {
      "cell_type": "markdown",
      "source": [
        "ポアソン分布の性質"
      ],
      "metadata": {
        "id": "U5Fznfqb4INx"
      }
    },
    {
      "cell_type": "code",
      "source": [
        "lam = 4\n",
        "X = Poi(4, x_max = 30)\n",
        "\n",
        "check_prob(X)"
      ],
      "metadata": {
        "colab": {
          "base_uri": "https://localhost:8080/"
        },
        "id": "nca50UPR4ShY",
        "outputId": "fa288d4e-8c24-4691-d51d-9e7c58532a41"
      },
      "execution_count": null,
      "outputs": [
        {
          "output_type": "stream",
          "name": "stdout",
          "text": [
            "期待値: 4.0, 分散: 4.0\n"
          ]
        }
      ]
    },
    {
      "cell_type": "markdown",
      "source": [
        "ポアソン分布の図示"
      ],
      "metadata": {
        "id": "wN8pggTT6659"
      }
    },
    {
      "cell_type": "code",
      "source": [
        "plot_prob(X)"
      ],
      "metadata": {
        "colab": {
          "base_uri": "https://localhost:8080/",
          "height": 373
        },
        "id": "vUmaKUAh6_48",
        "outputId": "823770b5-0e4c-4d64-a81a-72f8946cdb23"
      },
      "execution_count": null,
      "outputs": [
        {
          "output_type": "display_data",
          "data": {
            "text/plain": [
              "<Figure size 720x432 with 1 Axes>"
            ],
            "image/png": "[encoded data removed]"
          },
          "metadata": {
            "needs_background": "light"
          }
        }
      ]
    },
    {
      "cell_type": "markdown",
      "source": [
        "lamを変化させたときのポアソン分布"
      ],
      "metadata": {
        "id": "3Wm-_5ko_o1n"
      }
    },
    {
      "cell_type": "code",
      "source": [
        "x_set = np.arange(31)\n",
        "\n",
        "plt.figure(figsize=(10, 6))\n",
        "for lam in range(1, 20, 2):\n",
        "    rv = stats.poisson(lam)\n",
        "    prob = rv.pmf(x_set)\n",
        "\n",
        "    plt.plot(x_set, prob, label=f'lam:{lam}')\n",
        "plt.grid(True)\n",
        "plt.xlabel('発生件数')\n",
        "plt.ylabel('発生確率')\n",
        "plt.legend()\n",
        "plt.show()"
      ],
      "metadata": {
        "colab": {
          "base_uri": "https://localhost:8080/",
          "height": 386
        },
        "id": "Tzfab1Q48eZb",
        "outputId": "c7f818c5-ae38-4163-f859-35b91ae1d783"
      },
      "execution_count": null,
      "outputs": [
        {
          "output_type": "display_data",
          "data": {
            "text/plain": [
              "<Figure size 720x432 with 1 Axes>"
            ],
            "image/png": "[encoded data removed]"
          },
          "metadata": {
            "needs_background": "light"
          }
        }
      ]
    },
    {
      "cell_type": "markdown",
      "source": [
        "年間で落馬で死亡する人数の確率分布"
      ],
      "metadata": {
        "id": "U5Nj-FhwEZWH"
      }
    },
    {
      "cell_type": "code",
      "source": [
        "x_set = np.arange(11)\n",
        "lam = 0.61\n",
        "\n",
        "rv = stats.poisson(lam)\n",
        "prob = rv.pmf(x_set)\n",
        "\n",
        "plt.figure(figsize=(10, 6))\n",
        "plt.bar(x_set, prob)\n",
        "plt.grid(True)\n",
        "plt.xlabel('死亡件数')\n",
        "plt.ylabel('発生確率')\n",
        "plt.show()"
      ],
      "metadata": {
        "colab": {
          "base_uri": "https://localhost:8080/",
          "height": 386
        },
        "id": "AxrR5-XrEfVJ",
        "outputId": "249530c5-e3f5-4e2f-d6dc-1a621be27cf1"
      },
      "execution_count": null,
      "outputs": [
        {
          "output_type": "display_data",
          "data": {
            "text/plain": [
              "<Figure size 720x432 with 1 Axes>"
            ],
            "image/png": "[encoded data removed]"
          },
          "metadata": {
            "needs_background": "light"
          }
        }
      ]
    },
    {
      "cell_type": "markdown",
      "source": [
        "コールセンターの１０分間辺りのコール件数"
      ],
      "metadata": {
        "id": "bUQ5usimGJ6r"
      }
    },
    {
      "cell_type": "code",
      "source": [
        "x_set = np.arange(40)\n",
        "lam = 8\n",
        "\n",
        "rv = stats.poisson(lam)\n",
        "prob = rv.pmf(x_set)\n",
        "\n",
        "plt.figure(figsize=(10, 6))\n",
        "plt.bar(x_set, prob)\n",
        "plt.grid(True)\n",
        "plt.xlabel('コール件数')\n",
        "plt.ylabel('発生確率')\n",
        "plt.show()"
      ],
      "metadata": {
        "colab": {
          "base_uri": "https://localhost:8080/",
          "height": 386
        },
        "id": "5og_yLlyGNrC",
        "outputId": "aaa49b42-fa77-4c5b-e792-81477dba91b8"
      },
      "execution_count": null,
      "outputs": [
        {
          "output_type": "display_data",
          "data": {
            "text/plain": [
              "<Figure size 720x432 with 1 Axes>"
            ],
            "image/png": "[encoded data removed]"
          },
          "metadata": {
            "needs_background": "light"
          }
        }
      ]
    },
    {
      "cell_type": "markdown",
      "source": [
        "コールセンターのキャパシティを検証"
      ],
      "metadata": {
        "id": "OwLFMt4EG3-y"
      }
    },
    {
      "cell_type": "code",
      "source": [
        "np.sum(prob[17:])"
      ],
      "metadata": {
        "colab": {
          "base_uri": "https://localhost:8080/"
        },
        "id": "Gq-STO4nG7V1",
        "outputId": "2b4517a4-bb33-46b8-ba31-f3043faecd4c"
      },
      "execution_count": null,
      "outputs": [
        {
          "output_type": "execute_result",
          "data": {
            "text/plain": [
              "0.0037180212812834303"
            ]
          },
          "metadata": {},
          "execution_count": 49
        }
      ]
    },
    {
      "cell_type": "markdown",
      "source": [
        "## 連続型確率変数"
      ],
      "metadata": {
        "id": "sxiiCpl8vHsB"
      }
    },
    {
      "cell_type": "markdown",
      "source": [
        "## 1次元"
      ],
      "metadata": {
        "id": "aZI4CtTeoM2h"
      }
    },
    {
      "cell_type": "markdown",
      "source": [
        "### 確率密度関数／密度関数"
      ],
      "metadata": {
        "id": "tkC0-ENbOOy6"
      }
    },
    {
      "cell_type": "markdown",
      "source": [
        "いかさまルーレットのとりうる値の区間"
      ],
      "metadata": {
        "id": "10juUFazOSoO"
      }
    },
    {
      "cell_type": "code",
      "source": [
        "x_range = np.array([0, 1])"
      ],
      "metadata": {
        "id": "0HVMhS7F-ZCf"
      },
      "execution_count": null,
      "outputs": []
    },
    {
      "cell_type": "markdown",
      "source": [
        "いかさまルーレットの密度関数"
      ],
      "metadata": {
        "id": "1oLA4WAbRIod"
      }
    },
    {
      "cell_type": "code",
      "source": [
        "def f(x):\n",
        "    x_min, x_max = x_range\n",
        "    if x_min <= x <= x_max:\n",
        "        return 2 * x\n",
        "    else:\n",
        "        return 0"
      ],
      "metadata": {
        "id": "zC4Aa7pBO16n"
      },
      "execution_count": null,
      "outputs": []
    },
    {
      "cell_type": "markdown",
      "source": [
        "密度関数と出目が0.5〜0.7になる確率"
      ],
      "metadata": {
        "id": "MJjBp9fIRKnR"
      }
    },
    {
      "cell_type": "code",
      "source": [
        "X = [x_range, f]\n",
        "\n",
        "x_min, x_max = x_range\n",
        "x_s = np.linspace(x_min, x_max, 100)\n",
        "\n",
        "x_fill = np.linspace(0.5, 0.7, 100)\n",
        "\n",
        "plt.figure(figsize=(10, 6))\n",
        "plt.plot(x_s, [f(x) for x in x_s], label='確率密度関数')\n",
        "plt.fill_between(x_fill, [f(x) for x in x_fill], label='確率', alpha=0.3)\n",
        "\n",
        "plt.grid(True)\n",
        "plt.xlabel('とりうる値')\n",
        "plt.ylabel('密度')\n",
        "plt.legend()\n",
        "plt.show()"
      ],
      "metadata": {
        "colab": {
          "base_uri": "https://localhost:8080/",
          "height": 386
        },
        "id": "CNIcZ9fZRgIr",
        "outputId": "cbb81314-3eef-4f1c-f863-38b7dddd37d0"
      },
      "execution_count": null,
      "outputs": [
        {
          "output_type": "display_data",
          "data": {
            "text/plain": [
              "<Figure size 720x432 with 1 Axes>"
            ],
            "image/png": "[encoded data removed]"
          },
          "metadata": {
            "needs_background": "light"
          }
        }
      ]
    },
    {
      "cell_type": "markdown",
      "source": [
        "いかさまルーレットの確率分布の面積"
      ],
      "metadata": {
        "id": "2sKN7eefpXVO"
      }
    },
    {
      "cell_type": "code",
      "source": [
        "integrate.quad(f, 0.5, 0.7)"
      ],
      "metadata": {
        "colab": {
          "base_uri": "https://localhost:8080/"
        },
        "id": "KubvYbYVpVt8",
        "outputId": "123ee89c-0535-44d3-cf4b-45b12bada47e"
      },
      "execution_count": null,
      "outputs": [
        {
          "output_type": "execute_result",
          "data": {
            "text/plain": [
              "(0.240, 0.000)"
            ]
          },
          "metadata": {},
          "execution_count": 8
        }
      ]
    },
    {
      "cell_type": "markdown",
      "source": [
        "確率の性質"
      ],
      "metadata": {
        "id": "xqakIme7ufql"
      }
    },
    {
      "cell_type": "code",
      "source": [
        "f_min = optimize.minimize_scalar(f).fun\n",
        "f_sum = integrate.quad(f, -np.inf, np.inf)[0]\n",
        "\n",
        "print(f'最小値: {f_min}')\n",
        "print(f'総和: {f_sum:.3f}')"
      ],
      "metadata": {
        "colab": {
          "base_uri": "https://localhost:8080/"
        },
        "id": "-vQXGkt7uhhR",
        "outputId": "37dbae3f-07e4-40c3-e640-283a79940b0f"
      },
      "execution_count": null,
      "outputs": [
        {
          "output_type": "stream",
          "name": "stdout",
          "text": [
            "最小値: 0\n",
            "総和: 1.000\n"
          ]
        }
      ]
    },
    {
      "cell_type": "markdown",
      "source": [
        "### 累積分布関数"
      ],
      "metadata": {
        "id": "6by5mfknzVQs"
      }
    },
    {
      "cell_type": "code",
      "source": [
        "def F(x):\n",
        "    return integrate.quad(f, -np.inf, x)[0]\n",
        "\n",
        "F(0.7)"
      ],
      "metadata": {
        "colab": {
          "base_uri": "https://localhost:8080/"
        },
        "id": "ZXyWA8cCzU4u",
        "outputId": "cdaa018d-c34c-4744-ff04-10fdcf66971d"
      },
      "execution_count": null,
      "outputs": [
        {
          "output_type": "execute_result",
          "data": {
            "text/plain": [
              "0.490"
            ]
          },
          "metadata": {},
          "execution_count": 10
        }
      ]
    },
    {
      "cell_type": "markdown",
      "source": [
        "累積分布関数による区間指定"
      ],
      "metadata": {
        "id": "Q-VCL6YK0EP1"
      }
    },
    {
      "cell_type": "code",
      "source": [
        "F(0.7) - F(0.5)"
      ],
      "metadata": {
        "colab": {
          "base_uri": "https://localhost:8080/"
        },
        "id": "S5FusftC83ty",
        "outputId": "61ae3b2a-3064-42eb-d9d2-acbca17b79a4"
      },
      "execution_count": null,
      "outputs": [
        {
          "output_type": "execute_result",
          "data": {
            "text/plain": [
              "0.240"
            ]
          },
          "metadata": {},
          "execution_count": 11
        }
      ]
    },
    {
      "cell_type": "markdown",
      "source": [
        "いかさまルーレットの累積分布関数の図示"
      ],
      "metadata": {
        "id": "TeO6xygA9Bwp"
      }
    },
    {
      "cell_type": "code",
      "source": [
        "x_min, x_max = x_range\n",
        "x_s = np.linspace(x_min, x_max, 100)\n",
        "\n",
        "plt.figure(figsize=(10, 6))\n",
        "plt.plot(x_s, [F(x) for x in x_s], label='累積分布関数')\n",
        "\n",
        "plt.grid(True)\n",
        "plt.xlabel('とりうる値')\n",
        "plt.ylabel('確率')\n",
        "plt.legend()\n",
        "plt.show()"
      ],
      "metadata": {
        "colab": {
          "base_uri": "https://localhost:8080/",
          "height": 386
        },
        "id": "7TNUYI9E9Hj3",
        "outputId": "b021a9c7-6152-4357-ff4c-040b37c4907c"
      },
      "execution_count": null,
      "outputs": [
        {
          "output_type": "display_data",
          "data": {
            "text/plain": [
              "<Figure size 720x432 with 1 Axes>"
            ],
            "image/png": "[encoded data removed]"
          },
          "metadata": {
            "needs_background": "light"
          }
        }
      ]
    },
    {
      "cell_type": "markdown",
      "source": [
        "### 期待値を求める関数"
      ],
      "metadata": {
        "id": "kEItb8z69KsH"
      }
    },
    {
      "cell_type": "markdown",
      "source": [
        "いかさまルーレットの期待値"
      ],
      "metadata": {
        "id": "jsTu6JaB9vkG"
      }
    },
    {
      "cell_type": "markdown",
      "source": [
        "確率の期待値を求める"
      ],
      "metadata": {
        "id": "dGv7IPQy-uje"
      }
    },
    {
      "cell_type": "code",
      "source": [
        "def integrand(x):\n",
        "    return x * f(x)\n",
        "\n",
        "integrate.quad(integrand, -np.inf, np.inf)[0]"
      ],
      "metadata": {
        "colab": {
          "base_uri": "https://localhost:8080/"
        },
        "id": "vAR7YVjJ9s_F",
        "outputId": "2e7731bd-8455-4d54-a7ff-b0505562822f"
      },
      "execution_count": null,
      "outputs": [
        {
          "output_type": "execute_result",
          "data": {
            "text/plain": [
              "0.667"
            ]
          },
          "metadata": {},
          "execution_count": 13
        }
      ]
    },
    {
      "cell_type": "markdown",
      "source": [
        "期待値を求める関数"
      ],
      "metadata": {
        "id": "F5NJ6HWd_OcL"
      }
    },
    {
      "cell_type": "code",
      "source": [
        "def E(X, g=lambda x: x):\n",
        "    x_range, f = X\n",
        "\n",
        "    def integrand(x):\n",
        "        return g(x) * f(x)\n",
        "    \n",
        "    return integrate.quad(integrand, -np.inf, np.inf)[0]\n",
        "\n",
        "E(X)"
      ],
      "metadata": {
        "colab": {
          "base_uri": "https://localhost:8080/"
        },
        "id": "MY9-FM899PNd",
        "outputId": "8041aba7-09ef-4824-a7a1-e81a46e702ce"
      },
      "execution_count": null,
      "outputs": [
        {
          "output_type": "execute_result",
          "data": {
            "text/plain": [
              "0.667"
            ]
          },
          "metadata": {},
          "execution_count": 14
        }
      ]
    },
    {
      "cell_type": "markdown",
      "source": [
        "確率変数の変換"
      ],
      "metadata": {
        "id": "I1H1HureA8ji"
      }
    },
    {
      "cell_type": "code",
      "source": [
        "E(X, g=lambda x: 5 * x - 3)"
      ],
      "metadata": {
        "colab": {
          "base_uri": "https://localhost:8080/"
        },
        "id": "x-tpe7WiA-aB",
        "outputId": "464f6365-2d62-44d5-b10b-e14e20da4693"
      },
      "execution_count": null,
      "outputs": [
        {
          "output_type": "execute_result",
          "data": {
            "text/plain": [
              "0.333"
            ]
          },
          "metadata": {},
          "execution_count": 20
        }
      ]
    },
    {
      "cell_type": "markdown",
      "source": [
        "期待値の線形性"
      ],
      "metadata": {
        "id": "Rp8l-_A0B42j"
      }
    },
    {
      "cell_type": "code",
      "source": [
        "5 * E(X) - 3"
      ],
      "metadata": {
        "colab": {
          "base_uri": "https://localhost:8080/"
        },
        "id": "-UI7XFDRB-jI",
        "outputId": "e4c1e0d2-8feb-4368-e53c-8aa1abd37dc5"
      },
      "execution_count": null,
      "outputs": [
        {
          "output_type": "execute_result",
          "data": {
            "text/plain": [
              "0.333"
            ]
          },
          "metadata": {},
          "execution_count": 22
        }
      ]
    },
    {
      "cell_type": "markdown",
      "source": [
        "分散"
      ],
      "metadata": {
        "id": "2_VttwfFDE6M"
      }
    },
    {
      "cell_type": "markdown",
      "source": [
        "分散を求める関数"
      ],
      "metadata": {
        "id": "ujeq6aLoYI_u"
      }
    },
    {
      "cell_type": "code",
      "source": [
        "def V(X, g=lambda x: x):\n",
        "    x_range, f = X\n",
        "    mean = E(X, g)\n",
        "\n",
        "    def integrand(x):\n",
        "        return (g(x) - mean) ** 2 * f(x)\n",
        "    \n",
        "    return integrate.quad(integrand, -np.inf, np.inf)[0]\n",
        "\n",
        "V(X)"
      ],
      "metadata": {
        "colab": {
          "base_uri": "https://localhost:8080/"
        },
        "id": "LS1G7AGlXjif",
        "outputId": "309792ba-1a10-4e19-f8aa-19d8b93ae0e1"
      },
      "execution_count": null,
      "outputs": [
        {
          "output_type": "execute_result",
          "data": {
            "text/plain": [
              "0.056"
            ]
          },
          "metadata": {},
          "execution_count": 23
        }
      ]
    },
    {
      "cell_type": "markdown",
      "source": [
        "確率変数の変換"
      ],
      "metadata": {
        "id": "bDUOIvCxYJ1Y"
      }
    },
    {
      "cell_type": "code",
      "source": [
        "V(X, g=lambda x: 5 * x - 3)"
      ],
      "metadata": {
        "colab": {
          "base_uri": "https://localhost:8080/"
        },
        "id": "xa4DFY50YdTi",
        "outputId": "b6a5312f-b798-427f-f4c2-ca2bb25f9626"
      },
      "execution_count": null,
      "outputs": [
        {
          "output_type": "execute_result",
          "data": {
            "text/plain": [
              "1.389"
            ]
          },
          "metadata": {},
          "execution_count": 29
        }
      ]
    },
    {
      "cell_type": "markdown",
      "source": [
        "分散の公式"
      ],
      "metadata": {
        "id": "9VimrMUZY_ZY"
      }
    },
    {
      "cell_type": "code",
      "source": [
        "5 ** 2 * V(X)"
      ],
      "metadata": {
        "colab": {
          "base_uri": "https://localhost:8080/"
        },
        "id": "IxpBMZVMY_1h",
        "outputId": "ff153139-f36a-41da-ee98-2657a784f37e"
      },
      "execution_count": null,
      "outputs": [
        {
          "output_type": "execute_result",
          "data": {
            "text/plain": [
              "1.389"
            ]
          },
          "metadata": {},
          "execution_count": 31
        }
      ]
    },
    {
      "cell_type": "markdown",
      "source": [
        "## 2次元"
      ],
      "metadata": {
        "id": "JoZ3h1vDetBm"
      }
    },
    {
      "cell_type": "markdown",
      "source": [
        "### 同時確率密度関数"
      ],
      "metadata": {
        "id": "ro2Rc81weulF"
      }
    },
    {
      "cell_type": "markdown",
      "source": [
        "とりうる値の定義"
      ],
      "metadata": {
        "id": "J-zAUF1mfGBJ"
      }
    },
    {
      "cell_type": "code",
      "source": [
        "x_range = [0, 2]\n",
        "y_range = [0, 1]"
      ],
      "metadata": {
        "id": "bCT4NlUefHf8"
      },
      "execution_count": null,
      "outputs": []
    },
    {
      "cell_type": "markdown",
      "source": [
        "同時確率密度関数の実装"
      ],
      "metadata": {
        "id": "lMQM5GTReqy4"
      }
    },
    {
      "cell_type": "code",
      "source": [
        "def f_xy(x, y):\n",
        "    if 0 <= y <= 1 and 0 <= x - y <= 1:\n",
        "        return 4 * y * (x - y)\n",
        "    else:\n",
        "        return 0"
      ],
      "metadata": {
        "id": "z2z3UH6CexXv"
      },
      "execution_count": null,
      "outputs": []
    },
    {
      "cell_type": "markdown",
      "source": [
        "2次元の確率変数"
      ],
      "metadata": {
        "id": "TwEOZvSsgCUI"
      }
    },
    {
      "cell_type": "code",
      "source": [
        "XY = [x_range, y_range, f_xy]\n",
        "XY"
      ],
      "metadata": {
        "colab": {
          "base_uri": "https://localhost:8080/"
        },
        "id": "CEZirMQIgFC-",
        "outputId": "1ed25f71-a931-4aeb-9979-bbee8b7bcf8d"
      },
      "execution_count": null,
      "outputs": [
        {
          "output_type": "execute_result",
          "data": {
            "text/plain": [
              "[[0, 2], [0, 1], <function __main__.f_xy(x, y)>]"
            ]
          },
          "metadata": {},
          "execution_count": 35
        }
      ]
    },
    {
      "cell_type": "markdown",
      "source": [
        "確率密度の分布"
      ],
      "metadata": {
        "id": "n-L6CPqnjLaA"
      }
    },
    {
      "cell_type": "code",
      "source": [
        "xr = np.linspace(x_range[0], x_range[1], 200)\n",
        "yr = np.linspace(y_range[0], y_range[1], 200)\n",
        "pd_xy = np.array([[f_xy(x, y) for y in yr] for x in xr])\n",
        "\n",
        "plt.figure(figsize=(10, 8))\n",
        "sns.heatmap(\n",
        "    pd_xy, xticklabels=np.linspace(0, 2, 3), yticklabels=np.linspace(0, 1, 3),\n",
        "    cmap='Blues')\n",
        "plt.xticks(np.linspace(0, 200, 3))\n",
        "plt.yticks(np.linspace(0, 200, 3))\n",
        "plt.xlabel('X')\n",
        "plt.ylabel('Y')\n",
        "plt.show()"
      ],
      "metadata": {
        "colab": {
          "base_uri": "https://localhost:8080/",
          "height": 506
        },
        "id": "D9WMDBeDjK7S",
        "outputId": "5666baef-4138-45d2-9b01-568020aae993"
      },
      "execution_count": null,
      "outputs": [
        {
          "output_type": "display_data",
          "data": {
            "text/plain": [
              "<Figure size 720x576 with 2 Axes>"
            ],
            "image/png": "[encoded data removed]"
          },
          "metadata": {
            "needs_background": "light"
          }
        }
      ]
    },
    {
      "cell_type": "markdown",
      "source": [
        "2次元の確率の総和"
      ],
      "metadata": {
        "id": "LFeghvOppJic"
      }
    },
    {
      "cell_type": "code",
      "source": [
        "integrate.nquad(f_xy, [[-np.inf, np.inf], [-np.inf, np.inf]])[0]"
      ],
      "metadata": {
        "colab": {
          "base_uri": "https://localhost:8080/"
        },
        "id": "DzZwv4oFpKBa",
        "outputId": "e1c27789-7997-49fc-cb22-939196eb5154"
      },
      "execution_count": null,
      "outputs": [
        {
          "output_type": "execute_result",
          "data": {
            "text/plain": [
              "1.000"
            ]
          },
          "metadata": {},
          "execution_count": 75
        }
      ]
    },
    {
      "cell_type": "markdown",
      "source": [
        "### 周辺確率密度関数"
      ],
      "metadata": {
        "id": "p1DS_dqtqJXw"
      }
    },
    {
      "cell_type": "markdown",
      "source": [
        "周辺密度関数の定義"
      ],
      "metadata": {
        "id": "qUfF6wBOqPnQ"
      }
    },
    {
      "cell_type": "code",
      "source": [
        "def f_X(x):\n",
        "    return integrate.quad(partial(f_xy, x), -np.inf, np.inf)[0]\n",
        "\n",
        "def f_Y(y):\n",
        "    return integrate.quad(partial(f_xy, ｙ=y), -np.inf, np.inf)[0]"
      ],
      "metadata": {
        "id": "-WfpZQX-qQW6"
      },
      "execution_count": null,
      "outputs": []
    },
    {
      "cell_type": "markdown",
      "source": [
        "XとYそれぞれの周辺密度関数の図示"
      ],
      "metadata": {
        "id": "z0BvI4841rS2"
      }
    },
    {
      "cell_type": "code",
      "source": [
        "X = [x_range, f_X]\n",
        "Y = [y_range, f_Y]\n",
        "\n",
        "xr = np.linspace(x_range[0], x_range[1], 100)\n",
        "yr = np.linspace(y_range[0], y_range[1], 100)\n",
        "\n",
        "prob_x = [f_X(x) for x in xr]\n",
        "prob_y = [f_Y(y) for y in yr]\n",
        "\n",
        "fig = plt.figure(figsize=(16, 6))\n",
        "ax1 = fig.add_subplot(121)\n",
        "ax2 = fig.add_subplot(122)\n",
        "\n",
        "ax1.plot(xr, prob_x)\n",
        "ax1.set_title('Xの密度関数')\n",
        "ax1.set_xlabel('Xのとりうる値')\n",
        "ax1.set_ylabel('密度')\n",
        "ax1.grid()\n",
        "\n",
        "ax2.plot(yr, prob_y)\n",
        "ax2.set_title('Yの密度関数')\n",
        "ax2.set_xlabel('Yのとりうる値')\n",
        "ax2.set_ylabel('密度')\n",
        "ax2.grid()\n",
        "\n",
        "plt.show()"
      ],
      "metadata": {
        "colab": {
          "base_uri": "https://localhost:8080/",
          "height": 401
        },
        "id": "oCkruE3B1q64",
        "outputId": "9c072602-5dd6-4b19-a5db-b85c0245a212"
      },
      "execution_count": null,
      "outputs": [
        {
          "output_type": "display_data",
          "data": {
            "text/plain": [
              "<Figure size 1152x432 with 2 Axes>"
            ],
            "image/png": "[encoded data removed]"
          },
          "metadata": {
            "needs_background": "light"
          }
        }
      ]
    },
    {
      "cell_type": "markdown",
      "source": [
        "### 期待値"
      ],
      "metadata": {
        "id": "5CaW-AfF5s8n"
      }
    },
    {
      "cell_type": "markdown",
      "source": [
        "2次元の連続型確率変数の期待値"
      ],
      "metadata": {
        "id": "QwemfcXi5vgb"
      }
    },
    {
      "cell_type": "code",
      "source": [
        "def E2(XY, g):\n",
        "    x_range, y_range, f_xy = XY\n",
        "    \n",
        "    def integrand(x, y):\n",
        "        return g(x, y) * f_xy(x, y)\n",
        "    \n",
        "    return integrate.nquad(integrand, [[-np.inf, np.inf], [-np.inf, np.inf]])[0]\n",
        "\n",
        "mean_X = E2(XY, lambda x, y: x)\n",
        "mean_Y = E2(XY, lambda x, y: y)\n",
        "mean_X, mean_Y"
      ],
      "metadata": {
        "colab": {
          "base_uri": "https://localhost:8080/"
        },
        "id": "33ng4nXv5sr8",
        "outputId": "c96b7b4a-464e-43f0-c117-5bdf3f6deb3b"
      },
      "execution_count": null,
      "outputs": [
        {
          "output_type": "execute_result",
          "data": {
            "text/plain": [
              "(1.333, 0.667)"
            ]
          },
          "metadata": {},
          "execution_count": 97
        }
      ]
    },
    {
      "cell_type": "markdown",
      "source": [
        "期待値の線形性"
      ],
      "metadata": {
        "id": "WQ6rbMM_63zw"
      }
    },
    {
      "cell_type": "code",
      "source": [
        "a, b = 2, 3\n",
        "\n",
        "E2(XY, lambda x, y: (a * x) + (b * y)), (a * mean_X) + (b * mean_Y)"
      ],
      "metadata": {
        "colab": {
          "base_uri": "https://localhost:8080/"
        },
        "id": "OTfUwDPs5sq3",
        "outputId": "620b476b-1ee4-4141-f585-b3a5dc577832"
      },
      "execution_count": null,
      "outputs": [
        {
          "output_type": "execute_result",
          "data": {
            "text/plain": [
              "(4.667, 4.667)"
            ]
          },
          "metadata": {},
          "execution_count": 100
        }
      ]
    },
    {
      "cell_type": "markdown",
      "source": [
        "### 分散"
      ],
      "metadata": {
        "id": "69sB6VRy8TCq"
      }
    },
    {
      "cell_type": "code",
      "source": [
        "def V2(XY, g):\n",
        "    x_range, y_range, f_xy = XY\n",
        "    mean = E2(XY, g)\n",
        "    \n",
        "    def integrand(x, y):\n",
        "        return (g(x, y) - mean) ** 2 * f_xy(x, y)\n",
        "    \n",
        "    return integrate.nquad(integrand, [[-np.inf, np.inf], [-np.inf, np.inf]])[0]\n",
        "\n",
        "var_X = V2(XY, lambda x, y: x)\n",
        "var_Y = V2(XY, lambda x, y: y)\n",
        "var_X, var_Y"
      ],
      "metadata": {
        "colab": {
          "base_uri": "https://localhost:8080/"
        },
        "id": "x3tFItly8TtH",
        "outputId": "b848e8a0-f51f-4549-9003-949db67b89e3"
      },
      "execution_count": null,
      "outputs": [
        {
          "output_type": "execute_result",
          "data": {
            "text/plain": [
              "(0.111, 0.056)"
            ]
          },
          "metadata": {},
          "execution_count": 101
        }
      ]
    },
    {
      "cell_type": "markdown",
      "source": [
        "### 共分散"
      ],
      "metadata": {
        "id": "KE3GiIKq9hbj"
      }
    },
    {
      "cell_type": "code",
      "source": [
        "def cov(XY):\n",
        "    x_range, y_range, f_xy = XY\n",
        "    mean_X = E2(XY, lambda x, y: x)\n",
        "    mean_Y = E2(XY, lambda x, y: y)\n",
        "    \n",
        "    def integrand(x, y):\n",
        "        return (x - mean_X) * (y - mean_Y) * f_xy(x, y)\n",
        "    \n",
        "    return integrate.nquad(integrand, [[-np.inf, np.inf], [-np.inf, np.inf]])[0]\n",
        "\n",
        "cov_XY = cov(XY)\n",
        "cov_XY"
      ],
      "metadata": {
        "colab": {
          "base_uri": "https://localhost:8080/"
        },
        "id": "S2-e1Esh9lv4",
        "outputId": "94048bdd-7c19-42e1-a4f3-f79b0c118c4d"
      },
      "execution_count": null,
      "outputs": [
        {
          "output_type": "execute_result",
          "data": {
            "text/plain": [
              "0.056"
            ]
          },
          "metadata": {},
          "execution_count": 102
        }
      ]
    },
    {
      "cell_type": "markdown",
      "source": [
        "### 相関係数"
      ],
      "metadata": {
        "id": "LZ4-uyrkATTI"
      }
    },
    {
      "cell_type": "code",
      "source": [
        "cov_XY / np.sqrt(var_X * var_Y)"
      ],
      "metadata": {
        "colab": {
          "base_uri": "https://localhost:8080/"
        },
        "id": "-vKyExkKAS3j",
        "outputId": "b611a4a8-8977-4b6f-8b42-89d6800fb85b"
      },
      "execution_count": null,
      "outputs": [
        {
          "output_type": "execute_result",
          "data": {
            "text/plain": [
              "0.7071117041227913"
            ]
          },
          "metadata": {},
          "execution_count": 103
        }
      ]
    }
  ]
}